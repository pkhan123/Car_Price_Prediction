{
 "cells": [
  {
   "cell_type": "markdown",
   "metadata": {},
   "source": [
    "# Merge Datasets and Export To PostgreSQL"
   ]
  },
  {
   "cell_type": "markdown",
   "metadata": {},
   "source": [
    "## Step-1: Imports Libraries"
   ]
  },
  {
   "cell_type": "code",
   "execution_count": 1,
   "metadata": {},
   "outputs": [],
   "source": [
    "import pandas as pd\n",
    "from sqlalchemy import create_engine\n",
    "from sqlalchemy_utils import database_exists, create_database\n",
    "import glob\n",
    "import shutil\n",
    "from MyCredentials import My_Credentials"
   ]
  },
  {
   "cell_type": "markdown",
   "metadata": {},
   "source": [
    "## Step-2: Import dataset and merge"
   ]
  },
  {
   "cell_type": "code",
   "execution_count": 2,
   "metadata": {},
   "outputs": [],
   "source": [
    "# specifying the path to csv files\n",
    "csv_path = '/Users/pluto/Documents/Code/Test/Used_Cars_Price_Prediction/Scrape_Data/Dataset/CSV'"
   ]
  },
  {
   "cell_type": "code",
   "execution_count": 3,
   "metadata": {},
   "outputs": [],
   "source": [
    "# csv files in the path\n",
    "csv_files = glob.glob(csv_path + \"/*.csv\")"
   ]
  },
  {
   "cell_type": "code",
   "execution_count": 4,
   "metadata": {},
   "outputs": [],
   "source": [
    "# defining an empty list to store content\n",
    "content = []"
   ]
  },
  {
   "cell_type": "code",
   "execution_count": 5,
   "metadata": {},
   "outputs": [],
   "source": [
    "# reading all the csv files in the specified path\n",
    "for filename in csv_files:\n",
    "    df = pd.read_csv(filename, index_col=None)\n",
    "    content.append(df)"
   ]
  },
  {
   "cell_type": "code",
   "execution_count": 6,
   "metadata": {},
   "outputs": [],
   "source": [
    "# converting content to data frame\n",
    "data_frame = pd.DataFrame()\n",
    "data_frame = pd.concat(content)"
   ]
  },
  {
   "cell_type": "code",
   "execution_count": 7,
   "metadata": {},
   "outputs": [
    {
     "data": {
      "text/html": [
       "<div>\n",
       "<style scoped>\n",
       "    .dataframe tbody tr th:only-of-type {\n",
       "        vertical-align: middle;\n",
       "    }\n",
       "\n",
       "    .dataframe tbody tr th {\n",
       "        vertical-align: top;\n",
       "    }\n",
       "\n",
       "    .dataframe thead th {\n",
       "        text-align: right;\n",
       "    }\n",
       "</style>\n",
       "<table border=\"1\" class=\"dataframe\">\n",
       "  <thead>\n",
       "    <tr style=\"text-align: right;\">\n",
       "      <th></th>\n",
       "      <th>City</th>\n",
       "      <th>Brand</th>\n",
       "      <th>Model</th>\n",
       "      <th>Body</th>\n",
       "      <th>Certification</th>\n",
       "      <th>Exterior_Color</th>\n",
       "      <th>Interior_Color</th>\n",
       "      <th>Transmission_Type</th>\n",
       "      <th>Fuel_Type</th>\n",
       "      <th>Engine_Type</th>\n",
       "      <th>Wheel_Drive_Type</th>\n",
       "      <th>Miles_Per_Gallon</th>\n",
       "      <th>Year</th>\n",
       "      <th>Zip_Code</th>\n",
       "      <th>Mileage</th>\n",
       "      <th>Price</th>\n",
       "    </tr>\n",
       "  </thead>\n",
       "  <tbody>\n",
       "    <tr>\n",
       "      <th>0</th>\n",
       "      <td>San Antonio</td>\n",
       "      <td>Toyota</td>\n",
       "      <td>Camry</td>\n",
       "      <td>SEDAN</td>\n",
       "      <td>Used</td>\n",
       "      <td>Silver</td>\n",
       "      <td>NaN</td>\n",
       "      <td>Automatic</td>\n",
       "      <td>Gasoline</td>\n",
       "      <td>4-Cylinder</td>\n",
       "      <td>2 wheel drive - front</td>\n",
       "      <td>27 City / 38 Highway</td>\n",
       "      <td>2021</td>\n",
       "      <td>78233</td>\n",
       "      <td>5,507</td>\n",
       "      <td>38997</td>\n",
       "    </tr>\n",
       "    <tr>\n",
       "      <th>1</th>\n",
       "      <td>San Antonio</td>\n",
       "      <td>Toyota</td>\n",
       "      <td>Supra</td>\n",
       "      <td>COUPE</td>\n",
       "      <td>Used</td>\n",
       "      <td>Red</td>\n",
       "      <td>NaN</td>\n",
       "      <td>Automatic</td>\n",
       "      <td>Gasoline</td>\n",
       "      <td>4-Cylinder Turbo</td>\n",
       "      <td>2 wheel drive - rear</td>\n",
       "      <td>25 City / 32 Highway</td>\n",
       "      <td>2021</td>\n",
       "      <td>78233</td>\n",
       "      <td>7,094</td>\n",
       "      <td>51997</td>\n",
       "    </tr>\n",
       "    <tr>\n",
       "      <th>2</th>\n",
       "      <td>San Antonio</td>\n",
       "      <td>Ford</td>\n",
       "      <td>F250</td>\n",
       "      <td>TRUCKS</td>\n",
       "      <td>Used</td>\n",
       "      <td>White</td>\n",
       "      <td>Java</td>\n",
       "      <td>Automatic</td>\n",
       "      <td>Diesel</td>\n",
       "      <td>8-Cylinder Turbo</td>\n",
       "      <td>4 wheel drive</td>\n",
       "      <td>NaN</td>\n",
       "      <td>2020</td>\n",
       "      <td>78219</td>\n",
       "      <td>19,135</td>\n",
       "      <td>80500</td>\n",
       "    </tr>\n",
       "    <tr>\n",
       "      <th>3</th>\n",
       "      <td>San Antonio</td>\n",
       "      <td>Ford</td>\n",
       "      <td>Escape</td>\n",
       "      <td>SUV</td>\n",
       "      <td>Used</td>\n",
       "      <td>Blue</td>\n",
       "      <td>NaN</td>\n",
       "      <td>Automatic</td>\n",
       "      <td>Flexible Fuel</td>\n",
       "      <td>4-Cylinder</td>\n",
       "      <td>2 wheel drive - front</td>\n",
       "      <td>21 City / 29 Highway</td>\n",
       "      <td>2019</td>\n",
       "      <td>78233</td>\n",
       "      <td>26,196</td>\n",
       "      <td>24997</td>\n",
       "    </tr>\n",
       "    <tr>\n",
       "      <th>4</th>\n",
       "      <td>San Antonio</td>\n",
       "      <td>Toyota</td>\n",
       "      <td>RAV4</td>\n",
       "      <td>SUV</td>\n",
       "      <td>Used</td>\n",
       "      <td>Purple</td>\n",
       "      <td>NaN</td>\n",
       "      <td>Automatic</td>\n",
       "      <td>Gasoline</td>\n",
       "      <td>4-Cylinder</td>\n",
       "      <td>2 wheel drive - front</td>\n",
       "      <td>23 City / 30 Highway</td>\n",
       "      <td>2018</td>\n",
       "      <td>78233</td>\n",
       "      <td>37,486</td>\n",
       "      <td>29287</td>\n",
       "    </tr>\n",
       "  </tbody>\n",
       "</table>\n",
       "</div>"
      ],
      "text/plain": [
       "          City   Brand   Model    Body Certification Exterior_Color  \\\n",
       "0  San Antonio  Toyota   Camry   SEDAN          Used         Silver   \n",
       "1  San Antonio  Toyota   Supra   COUPE          Used            Red   \n",
       "2  San Antonio    Ford    F250  TRUCKS          Used          White   \n",
       "3  San Antonio    Ford  Escape     SUV          Used           Blue   \n",
       "4  San Antonio  Toyota    RAV4     SUV          Used         Purple   \n",
       "\n",
       "  Interior_Color Transmission_Type      Fuel_Type       Engine_Type  \\\n",
       "0            NaN         Automatic       Gasoline        4-Cylinder   \n",
       "1            NaN         Automatic       Gasoline  4-Cylinder Turbo   \n",
       "2           Java         Automatic         Diesel  8-Cylinder Turbo   \n",
       "3            NaN         Automatic  Flexible Fuel        4-Cylinder   \n",
       "4            NaN         Automatic       Gasoline        4-Cylinder   \n",
       "\n",
       "        Wheel_Drive_Type      Miles_Per_Gallon  Year  Zip_Code Mileage  Price  \n",
       "0  2 wheel drive - front  27 City / 38 Highway  2021     78233   5,507  38997  \n",
       "1   2 wheel drive - rear  25 City / 32 Highway  2021     78233   7,094  51997  \n",
       "2          4 wheel drive                   NaN  2020     78219  19,135  80500  \n",
       "3  2 wheel drive - front  21 City / 29 Highway  2019     78233  26,196  24997  \n",
       "4  2 wheel drive - front  23 City / 30 Highway  2018     78233  37,486  29287  "
      ]
     },
     "execution_count": 7,
     "metadata": {},
     "output_type": "execute_result"
    }
   ],
   "source": [
    "data_frame.head()"
   ]
  },
  {
   "cell_type": "code",
   "execution_count": 8,
   "metadata": {},
   "outputs": [
    {
     "data": {
      "text/plain": [
       "(20000, 16)"
      ]
     },
     "execution_count": 8,
     "metadata": {},
     "output_type": "execute_result"
    }
   ],
   "source": [
    "data_frame.shape"
   ]
  },
  {
   "cell_type": "markdown",
   "metadata": {},
   "source": [
    "## Step-3: Export Dataset to PostgreSQL Database"
   ]
  },
  {
   "cell_type": "code",
   "execution_count": 9,
   "metadata": {},
   "outputs": [],
   "source": [
    "# copy the dataset\n",
    "df_merged_used_cars_dataset = data_frame.copy()"
   ]
  },
  {
   "cell_type": "markdown",
   "metadata": {},
   "source": [
    "### Export to Excel and CSV File"
   ]
  },
  {
   "cell_type": "code",
   "execution_count": 10,
   "metadata": {},
   "outputs": [],
   "source": [
    "df_merged_used_cars_dataset.to_excel('Raw_Used_Cars_Dataset.xlsx', index=False)"
   ]
  },
  {
   "cell_type": "code",
   "execution_count": 11,
   "metadata": {},
   "outputs": [
    {
     "data": {
      "text/plain": [
       "'Dataset/Merged/Raw_Used_Cars_Dataset.xlsx'"
      ]
     },
     "execution_count": 11,
     "metadata": {},
     "output_type": "execute_result"
    }
   ],
   "source": [
    "shutil.move('Raw_Used_Cars_Dataset.xlsx', 'Dataset/Merged')"
   ]
  },
  {
   "cell_type": "code",
   "execution_count": 12,
   "metadata": {},
   "outputs": [],
   "source": [
    "df_merged_used_cars_dataset.to_csv('Raw_Used_Cars_Dataset.csv', index=False)"
   ]
  },
  {
   "cell_type": "code",
   "execution_count": 13,
   "metadata": {},
   "outputs": [
    {
     "data": {
      "text/plain": [
       "'Dataset/Merged/Raw_Used_Cars_Dataset.csv'"
      ]
     },
     "execution_count": 13,
     "metadata": {},
     "output_type": "execute_result"
    }
   ],
   "source": [
    "shutil.move('Raw_Used_Cars_Dataset.csv', 'Dataset/Merged')"
   ]
  },
  {
   "cell_type": "markdown",
   "metadata": {},
   "source": [
    "### Upload file to PostgreSQL table"
   ]
  },
  {
   "cell_type": "code",
   "execution_count": 14,
   "metadata": {},
   "outputs": [],
   "source": [
    "username = My_Credentials.username\n",
    "password = My_Credentials.password\n",
    "hostname = My_Credentials.hostname\n",
    "port = My_Credentials.port\n",
    "database = 'Used_Cars_Database'\n"
   ]
  },
  {
   "cell_type": "code",
   "execution_count": 15,
   "metadata": {},
   "outputs": [],
   "source": [
    "# create sqlalchemy engine and connect to PostgreSQL server\n",
    "engine=create_engine(f'postgresql://{username}:{password}@{hostname}:{port}/{database}')"
   ]
  },
  {
   "cell_type": "code",
   "execution_count": 16,
   "metadata": {},
   "outputs": [
    {
     "name": "stdout",
     "output_type": "stream",
     "text": [
      "Database exists!\n"
     ]
    }
   ],
   "source": [
    "if database_exists(engine.url):\n",
    "    print('Database exists!')\n",
    "else:\n",
    "    create_database(engine.url)\n",
    "    print('Database created!')"
   ]
  },
  {
   "cell_type": "code",
   "execution_count": 17,
   "metadata": {},
   "outputs": [
    {
     "name": "stdout",
     "output_type": "stream",
     "text": [
      "Data uploaded to PostgreSQL table\n"
     ]
    }
   ],
   "source": [
    "try:\n",
    "    df_merged_used_cars_dataset.to_sql('Raw_Used_Cars_Dataset', engine, if_exists= 'replace', index= False)\n",
    "    print('Data uploaded to PostgreSQL table')\n",
    "\n",
    "except:\n",
    "    print(\"Sorry, some error has occurred!\")\n",
    "\n",
    "finally:\n",
    "    engine.dispose()"
   ]
  },
  {
   "cell_type": "code",
   "execution_count": null,
   "metadata": {},
   "outputs": [],
   "source": []
  }
 ],
 "metadata": {
  "kernelspec": {
   "display_name": "Python 3",
   "language": "python",
   "name": "python3"
  },
  "language_info": {
   "codemirror_mode": {
    "name": "ipython",
    "version": 3
   },
   "file_extension": ".py",
   "mimetype": "text/x-python",
   "name": "python",
   "nbconvert_exporter": "python",
   "pygments_lexer": "ipython3",
   "version": "3.10.1"
  }
 },
 "nbformat": 4,
 "nbformat_minor": 4
}
