{
 "cells": [
  {
   "cell_type": "markdown",
   "metadata": {},
   "source": [
    "# Scrape Used Cars Data"
   ]
  },
  {
   "cell_type": "code",
   "execution_count": 162,
   "metadata": {},
   "outputs": [],
   "source": [
    "# scrape used cars data from autotrader.com"
   ]
  },
  {
   "cell_type": "markdown",
   "metadata": {},
   "source": [
    "## Step-1: Import Libraries"
   ]
  },
  {
   "cell_type": "code",
   "execution_count": 163,
   "metadata": {},
   "outputs": [],
   "source": [
    "import pandas as pd\n",
    "import numpy as np\n",
    "import importlib \n",
    "import shutil\n",
    "import os\n"
   ]
  },
  {
   "cell_type": "markdown",
   "metadata": {},
   "source": [
    "## Step-2: Scraping Multiple Pages to Get 500 Results"
   ]
  },
  {
   "cell_type": "markdown",
   "metadata": {},
   "source": [
    "Necessary Data\n",
    "- brand \n",
    "- model\n",
    "- body\n",
    "- certification\n",
    "- exterior_color\n",
    "- interior_color\n",
    "- transmission_type\n",
    "- fuel_type\n",
    "- engine_type\n",
    "- wheel_drive_type\n",
    "- miles_per_gallon\n",
    "- year\n",
    "- zip_code\n",
    "- mileage\n",
    "- price"
   ]
  },
  {
   "cell_type": "code",
   "execution_count": 164,
   "metadata": {},
   "outputs": [],
   "source": [
    "# search city\n",
    "# 800\n",
    "city = 'New York'\n",
    "# city = 'Los Angeles'\n",
    "# city = 'Chicago'\n",
    "# city = 'Houston'\n",
    "# city = 'Phoenix'\n",
    "\n",
    "# 700\n",
    "# city = 'Philadelphia'\n",
    "# city = 'San Antonio'\n",
    "# city = 'San Diego'\n",
    "# city = 'Dallas'\n",
    "# city = 'San Jose'\n",
    "\n",
    "# 600\n",
    "# city = 'Austin' \n",
    "# city = 'Jacksonville'\n",
    "# city = 'Fort Worth'\n",
    "# city = 'Columbus'\n",
    "# city = 'Indianapolis'\n",
    "\n",
    "# 500\n",
    "# city = 'Charlotte'\n",
    "# city = 'San Francisco'\n",
    "# city = 'Seattle'\n",
    "# city = 'Denver'\n",
    "# city = 'Washington'\n",
    "\n",
    "# 500\n",
    "# city = 'Boston'\n",
    "# city = 'Las Vegas'\n",
    "# city = 'Detroit'\n",
    "# city = 'Miami'\n",
    "# city = 'Nashville'\n",
    "# city = 'Oklahoma City'\n",
    "# city = 'El Paso'\n",
    "# city = 'Portland'\n",
    "# city = 'Memphis'\n",
    "# city = 'Louisville'\n",
    "# city = 'Baltimore'\n",
    "# city = 'Milwaukee'\n",
    "# city = 'Albuquerque'\n",
    "# city = 'Tucson'\n",
    "# city = 'Fresno'\n",
    "# city = 'Sacramento'\n",
    "city_string = city.replace(' ', '_')\n"
   ]
  },
  {
   "cell_type": "code",
   "execution_count": 165,
   "metadata": {},
   "outputs": [
    {
     "name": "stdout",
     "output_type": "stream",
     "text": [
      "Curl_Python_Sacramento\n"
     ]
    }
   ],
   "source": [
    "# import custom module from Curl_Python_XYZ.py\n",
    "custom_module_name = f'Curl_Python_{city_string}'\n",
    "print(custom_module_name)\n",
    "imported_custom_module = importlib.import_module(custom_module_name)\n",
    "\n"
   ]
  },
  {
   "cell_type": "code",
   "execution_count": 166,
   "metadata": {},
   "outputs": [],
   "source": [
    "# each page has 25 result\n",
    "# for 500 result need 20 pages\n",
    "# 800 -> 32 | 700 -> 28 | 600 -> 24 | 500 -> 20 \n",
    "page_to_scroll = 20\n"
   ]
  },
  {
   "cell_type": "code",
   "execution_count": 167,
   "metadata": {},
   "outputs": [],
   "source": [
    "brand = []\n",
    "model = []\n",
    "body = []\n",
    "certification = []\n",
    "exterior_color = []\n",
    "interior_color = []\n",
    "transmission_type = []\n",
    "fuel_type = []\n",
    "engine_type = []\n",
    "wheel_drive_type = []\n",
    "miles_per_gallon = []\n",
    "year = []\n",
    "zip_code = []\n",
    "mileage = []\n",
    "price = []"
   ]
  },
  {
   "cell_type": "code",
   "execution_count": 168,
   "metadata": {},
   "outputs": [
    {
     "name": "stdout",
     "output_type": "stream",
     "text": [
      "1\n",
      "2\n",
      "3\n",
      "4\n",
      "5\n",
      "6\n",
      "7\n",
      "8\n",
      "9\n",
      "10\n",
      "11\n",
      "12\n",
      "13\n",
      "14\n",
      "15\n",
      "16\n",
      "17\n",
      "18\n",
      "19\n",
      "20\n"
     ]
    }
   ],
   "source": [
    "# may take up to 1-2 min to run this cell\n",
    "for page in range(1,page_to_scroll+1):\n",
    "    #print page to scroll\n",
    "    print(page)\n",
    "\n",
    "    # call curl_python_function from curl_python.py for each page and create esponse\n",
    "    response = imported_custom_module.Curl_Python(page)\n",
    "\n",
    "    # create response json object\n",
    "    response_json_object = response.json()\n",
    "\n",
    "    # result items\n",
    "    result_items = response_json_object['listings']\n",
    "\n",
    "    # iterate over result items\n",
    "    for result in result_items:\n",
    "\n",
    "        # brand\n",
    "        brand.append(result['make'])\n",
    "\n",
    "        # model\n",
    "        model.append(result['model'])\n",
    "\n",
    "        # body\n",
    "        body.append(result['bodyStyleCodes'][0])\n",
    "\n",
    "        # certification\n",
    "        certification.append(result['type'])\n",
    "\n",
    "        # exterior color\n",
    "        if result.get('specifications', {}).get('color', {}).get('value') != None:\n",
    "            exterior_color.append(result['specifications']['color']['value'])\n",
    "        else:\n",
    "            exterior_color.append(np.nan)\n",
    "\n",
    "        # interior color\n",
    "        if result.get('specifications', {}).get('interiorColor', {}).get('value') != None:\n",
    "            interior_color.append(result['specifications']['interiorColor']['value'])\n",
    "        else:\n",
    "            interior_color.append(np.nan)\n",
    "\n",
    "        # transmission type\n",
    "        if result.get('specifications', {}).get('transmission', {}).get('value') != None:\n",
    "            transmission_type.append(result['specifications']['transmission']['value'])\n",
    "        else:\n",
    "            transmission_type.append(np.nan)\n",
    "\n",
    "        # fuel type\n",
    "        fuel_type.append(result['fuelType'])\n",
    "\n",
    "        # engine type\n",
    "        engine_type.append(result['specifications']['engine']['value'])\n",
    "\n",
    "        # wheel drive type\n",
    "        if result.get('specifications', {}).get('driveType', {}).get('value') != None:\n",
    "            wheel_drive_type.append(result['specifications']['driveType']['value'])\n",
    "        else:\n",
    "            wheel_drive_type.append(np.nan)\n",
    "\n",
    "        # miles per gallon\n",
    "        if result.get('specifications', {}).get('mpg', {}).get('value') != None:\n",
    "            miles_per_gallon.append(result['specifications']['mpg']['value'])\n",
    "        else:\n",
    "            miles_per_gallon.append(np.nan)\n",
    "\n",
    "        # year\n",
    "        year.append(result['year'])\n",
    "\n",
    "        # zip code\n",
    "        zip_code.append(result['zip'])\n",
    "\n",
    "        # mileage\n",
    "        if result.get('specifications', {}).get('mileage', {}).get('value') != None:\n",
    "            mileage.append(result['specifications']['mileage']['value'])\n",
    "        else:\n",
    "            mileage.append(np.nan)\n",
    "\n",
    "        # price\n",
    "        price.append(result['pricingDetail']['salePrice'])\n",
    "\n",
    "\n",
    "\n",
    "# may take up to 1-2 min to run this cell"
   ]
  },
  {
   "cell_type": "markdown",
   "metadata": {},
   "source": [
    "## Step-3: Create Pandas Dataframe for Multiple Page"
   ]
  },
  {
   "cell_type": "code",
   "execution_count": 169,
   "metadata": {},
   "outputs": [],
   "source": [
    "df_multiple_page = pd.DataFrame({'City': city, 'Brand': brand, 'Model': model, 'Body': body,\n",
    "                                'Certification': certification, 'Exterior_Color': exterior_color,\n",
    "                                'Interior_Color': interior_color, 'Transmission_Type': transmission_type,\n",
    "                                'Fuel_Type': fuel_type, 'Engine_Type': engine_type,\n",
    "                                'Wheel_Drive_Type': wheel_drive_type, 'Miles_Per_Gallon': miles_per_gallon,\n",
    "                                'Year': year, 'Zip_Code': zip_code, 'Mileage': mileage, 'Price':price})"
   ]
  },
  {
   "cell_type": "code",
   "execution_count": 170,
   "metadata": {},
   "outputs": [
    {
     "data": {
      "text/html": [
       "<div>\n",
       "<style scoped>\n",
       "    .dataframe tbody tr th:only-of-type {\n",
       "        vertical-align: middle;\n",
       "    }\n",
       "\n",
       "    .dataframe tbody tr th {\n",
       "        vertical-align: top;\n",
       "    }\n",
       "\n",
       "    .dataframe thead th {\n",
       "        text-align: right;\n",
       "    }\n",
       "</style>\n",
       "<table border=\"1\" class=\"dataframe\">\n",
       "  <thead>\n",
       "    <tr style=\"text-align: right;\">\n",
       "      <th></th>\n",
       "      <th>City</th>\n",
       "      <th>Brand</th>\n",
       "      <th>Model</th>\n",
       "      <th>Body</th>\n",
       "      <th>Certification</th>\n",
       "      <th>Exterior_Color</th>\n",
       "      <th>Interior_Color</th>\n",
       "      <th>Transmission_Type</th>\n",
       "      <th>Fuel_Type</th>\n",
       "      <th>Engine_Type</th>\n",
       "      <th>Wheel_Drive_Type</th>\n",
       "      <th>Miles_Per_Gallon</th>\n",
       "      <th>Year</th>\n",
       "      <th>Zip_Code</th>\n",
       "      <th>Mileage</th>\n",
       "      <th>Price</th>\n",
       "    </tr>\n",
       "  </thead>\n",
       "  <tbody>\n",
       "    <tr>\n",
       "      <th>0</th>\n",
       "      <td>Sacramento</td>\n",
       "      <td>Subaru</td>\n",
       "      <td>Forester</td>\n",
       "      <td>SUV</td>\n",
       "      <td>Used</td>\n",
       "      <td>Blue</td>\n",
       "      <td>Gray</td>\n",
       "      <td>Automatic</td>\n",
       "      <td>Gasoline</td>\n",
       "      <td>4-Cylinder</td>\n",
       "      <td>All wheel drive</td>\n",
       "      <td>24 City / 31 Highway</td>\n",
       "      <td>2014</td>\n",
       "      <td>95815</td>\n",
       "      <td>77,216</td>\n",
       "      <td>18500</td>\n",
       "    </tr>\n",
       "    <tr>\n",
       "      <th>1</th>\n",
       "      <td>Sacramento</td>\n",
       "      <td>Toyota</td>\n",
       "      <td>RAV4</td>\n",
       "      <td>SUV</td>\n",
       "      <td>Used</td>\n",
       "      <td>Silver</td>\n",
       "      <td>Black</td>\n",
       "      <td>Automatic</td>\n",
       "      <td>Gasoline</td>\n",
       "      <td>4-Cylinder</td>\n",
       "      <td>2 wheel drive - front</td>\n",
       "      <td>26 City / 35 Highway</td>\n",
       "      <td>2019</td>\n",
       "      <td>95815</td>\n",
       "      <td>13,883</td>\n",
       "      <td>32500</td>\n",
       "    </tr>\n",
       "    <tr>\n",
       "      <th>2</th>\n",
       "      <td>Sacramento</td>\n",
       "      <td>Honda</td>\n",
       "      <td>CR-V</td>\n",
       "      <td>SUV</td>\n",
       "      <td>Used</td>\n",
       "      <td>White</td>\n",
       "      <td>Ivory</td>\n",
       "      <td>Automatic</td>\n",
       "      <td>Gasoline</td>\n",
       "      <td>4-Cylinder Turbo</td>\n",
       "      <td>All wheel drive</td>\n",
       "      <td>27 City / 33 Highway</td>\n",
       "      <td>2018</td>\n",
       "      <td>95815</td>\n",
       "      <td>39,456</td>\n",
       "      <td>32500</td>\n",
       "    </tr>\n",
       "    <tr>\n",
       "      <th>3</th>\n",
       "      <td>Sacramento</td>\n",
       "      <td>Volvo</td>\n",
       "      <td>S90</td>\n",
       "      <td>SEDAN</td>\n",
       "      <td>Used</td>\n",
       "      <td>Silver</td>\n",
       "      <td>Charcoal</td>\n",
       "      <td>Automatic</td>\n",
       "      <td>Gasoline</td>\n",
       "      <td>4-Cylinder Turbo</td>\n",
       "      <td>All wheel drive</td>\n",
       "      <td>23 City / 32 Highway</td>\n",
       "      <td>2018</td>\n",
       "      <td>95815</td>\n",
       "      <td>26,497</td>\n",
       "      <td>34500</td>\n",
       "    </tr>\n",
       "    <tr>\n",
       "      <th>4</th>\n",
       "      <td>Sacramento</td>\n",
       "      <td>Acura</td>\n",
       "      <td>MDX</td>\n",
       "      <td>SUV</td>\n",
       "      <td>Used</td>\n",
       "      <td>Red</td>\n",
       "      <td>Parchment</td>\n",
       "      <td>Automatic</td>\n",
       "      <td>Gasoline</td>\n",
       "      <td>6-Cylinder</td>\n",
       "      <td>All wheel drive</td>\n",
       "      <td>18 City / 26 Highway</td>\n",
       "      <td>2017</td>\n",
       "      <td>95815</td>\n",
       "      <td>40,006</td>\n",
       "      <td>36500</td>\n",
       "    </tr>\n",
       "  </tbody>\n",
       "</table>\n",
       "</div>"
      ],
      "text/plain": [
       "         City   Brand     Model   Body Certification Exterior_Color  \\\n",
       "0  Sacramento  Subaru  Forester    SUV          Used           Blue   \n",
       "1  Sacramento  Toyota      RAV4    SUV          Used         Silver   \n",
       "2  Sacramento   Honda      CR-V    SUV          Used          White   \n",
       "3  Sacramento   Volvo       S90  SEDAN          Used         Silver   \n",
       "4  Sacramento   Acura       MDX    SUV          Used            Red   \n",
       "\n",
       "  Interior_Color Transmission_Type Fuel_Type       Engine_Type  \\\n",
       "0           Gray         Automatic  Gasoline        4-Cylinder   \n",
       "1          Black         Automatic  Gasoline        4-Cylinder   \n",
       "2          Ivory         Automatic  Gasoline  4-Cylinder Turbo   \n",
       "3       Charcoal         Automatic  Gasoline  4-Cylinder Turbo   \n",
       "4      Parchment         Automatic  Gasoline        6-Cylinder   \n",
       "\n",
       "        Wheel_Drive_Type      Miles_Per_Gallon  Year Zip_Code Mileage  Price  \n",
       "0        All wheel drive  24 City / 31 Highway  2014    95815  77,216  18500  \n",
       "1  2 wheel drive - front  26 City / 35 Highway  2019    95815  13,883  32500  \n",
       "2        All wheel drive  27 City / 33 Highway  2018    95815  39,456  32500  \n",
       "3        All wheel drive  23 City / 32 Highway  2018    95815  26,497  34500  \n",
       "4        All wheel drive  18 City / 26 Highway  2017    95815  40,006  36500  "
      ]
     },
     "execution_count": 170,
     "metadata": {},
     "output_type": "execute_result"
    }
   ],
   "source": [
    "# display data frame\n",
    "df_multiple_page.head()"
   ]
  },
  {
   "cell_type": "code",
   "execution_count": 171,
   "metadata": {},
   "outputs": [
    {
     "data": {
      "text/plain": [
       "(500, 16)"
      ]
     },
     "execution_count": 171,
     "metadata": {},
     "output_type": "execute_result"
    }
   ],
   "source": [
    "df_multiple_page.shape"
   ]
  },
  {
   "cell_type": "markdown",
   "metadata": {},
   "source": [
    "## Step-4: Export Data to XLSX and CSV File"
   ]
  },
  {
   "cell_type": "code",
   "execution_count": 172,
   "metadata": {},
   "outputs": [],
   "source": [
    "# export the data to a xlsx file\n",
    "df_multiple_page.to_excel(f'Used_Cars_Dataset_{city_string}.xlsx', index=False)"
   ]
  },
  {
   "cell_type": "code",
   "execution_count": 173,
   "metadata": {},
   "outputs": [
    {
     "data": {
      "text/plain": [
       "'Dataset/XLSX/Used_Cars_Dataset_Sacramento.xlsx'"
      ]
     },
     "execution_count": 173,
     "metadata": {},
     "output_type": "execute_result"
    }
   ],
   "source": [
    "shutil.move(f'Used_Cars_Dataset_{city_string}.xlsx', 'Dataset/XLSX')"
   ]
  },
  {
   "cell_type": "code",
   "execution_count": 174,
   "metadata": {},
   "outputs": [],
   "source": [
    "# export the data to a csv file\n",
    "df_multiple_page.to_csv(f'Used_Cars_Dataset_{city_string}.csv', index=False)"
   ]
  },
  {
   "cell_type": "code",
   "execution_count": 175,
   "metadata": {},
   "outputs": [
    {
     "data": {
      "text/plain": [
       "'Dataset/CSV/Used_Cars_Dataset_Sacramento.csv'"
      ]
     },
     "execution_count": 175,
     "metadata": {},
     "output_type": "execute_result"
    }
   ],
   "source": [
    "shutil.move(f'Used_Cars_Dataset_{city_string}.csv', 'Dataset/CSV')"
   ]
  },
  {
   "cell_type": "code",
   "execution_count": null,
   "metadata": {},
   "outputs": [],
   "source": []
  }
 ],
 "metadata": {
  "kernelspec": {
   "display_name": "Python 3",
   "language": "python",
   "name": "python3"
  },
  "language_info": {
   "codemirror_mode": {
    "name": "ipython",
    "version": 3
   },
   "file_extension": ".py",
   "mimetype": "text/x-python",
   "name": "python",
   "nbconvert_exporter": "python",
   "pygments_lexer": "ipython3",
   "version": "3.10.1"
  }
 },
 "nbformat": 4,
 "nbformat_minor": 4
}
