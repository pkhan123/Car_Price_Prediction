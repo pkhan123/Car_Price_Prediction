{
  "cells": [
    {
      "cell_type": "markdown",
      "metadata": {
        "colab_type": "text",
        "id": "8FLud1n-3pVm"
      },
      "source": [
        "# CatBoost Model"
      ]
    },
    {
      "cell_type": "markdown",
      "metadata": {
        "colab_type": "text",
        "id": "sO8VPU6n3vES"
      },
      "source": [
        "### Importing the libraries"
      ]
    },
    {
      "cell_type": "code",
      "execution_count": 1,
      "metadata": {},
      "outputs": [],
      "source": [
        "# Base libraries\n",
        "import warnings\n",
        "warnings.filterwarnings('ignore')\n",
        "import numpy as np\n",
        "import pandas as pd\n",
        "from collections import Counter\n",
        "from scipy.stats import randint\n",
        "import pickle"
      ]
    },
    {
      "cell_type": "code",
      "execution_count": 2,
      "metadata": {},
      "outputs": [],
      "source": [
        "# Visualization libraries\n",
        "import matplotlib.pyplot as plt\n",
        "import seaborn as sns\n",
        "sns.set()"
      ]
    },
    {
      "cell_type": "code",
      "execution_count": 3,
      "metadata": {},
      "outputs": [],
      "source": [
        "# Othe libraries\n",
        "from sklearn import metrics\n",
        "from sklearn.model_selection import train_test_split\n",
        "from sklearn.impute import SimpleImputer\n",
        "from sklearn.preprocessing import StandardScaler\n",
        "from catboost import CatBoostRegressor\n",
        "from sklearn.model_selection import RandomizedSearchCV"
      ]
    },
    {
      "cell_type": "code",
      "execution_count": 4,
      "metadata": {},
      "outputs": [
        {
          "name": "stdout",
          "output_type": "stream",
          "text": [
            "\n",
            "    Available General Custom Functions: \n",
            "    Check_Missing_Values(input_dataset)\n",
            "    Move_Column_Last(input_dataset, target_variable)\n",
            "    Check_Feature_Details(input_dataset, input_feature)\n",
            "    Remove_Correlation(input_X_train)\n",
            "    Remove_Multicollinearity(X_train, numerical_feature_list)\n",
            "    Create_Feature_Selected_Dataset(input_X_train, input_y_train)\n",
            "    \n"
          ]
        }
      ],
      "source": [
        "# import general custom data preprocessing functions\n",
        "from General_Custom_Functions import *\n",
        "General_Custom_Functions()"
      ]
    },
    {
      "cell_type": "markdown",
      "metadata": {
        "colab_type": "text",
        "id": "zGpwK5XD386E"
      },
      "source": [
        "### Importing the dataset"
      ]
    },
    {
      "cell_type": "code",
      "execution_count": 5,
      "metadata": {},
      "outputs": [],
      "source": [
        "dataset = pd.read_csv('Cleaned_Dataset.csv')"
      ]
    },
    {
      "cell_type": "code",
      "execution_count": 6,
      "metadata": {},
      "outputs": [],
      "source": [
        "imported_dataset = dataset.copy()"
      ]
    },
    {
      "cell_type": "code",
      "execution_count": 7,
      "metadata": {},
      "outputs": [
        {
          "data": {
            "text/html": [
              "<div>\n",
              "<style scoped>\n",
              "    .dataframe tbody tr th:only-of-type {\n",
              "        vertical-align: middle;\n",
              "    }\n",
              "\n",
              "    .dataframe tbody tr th {\n",
              "        vertical-align: top;\n",
              "    }\n",
              "\n",
              "    .dataframe thead th {\n",
              "        text-align: right;\n",
              "    }\n",
              "</style>\n",
              "<table border=\"1\" class=\"dataframe\">\n",
              "  <thead>\n",
              "    <tr style=\"text-align: right;\">\n",
              "      <th></th>\n",
              "      <th>Brand</th>\n",
              "      <th>Model</th>\n",
              "      <th>Body</th>\n",
              "      <th>Certification</th>\n",
              "      <th>Exterior_Color</th>\n",
              "      <th>Interior_Color</th>\n",
              "      <th>Transmission_Type</th>\n",
              "      <th>Fuel_Type</th>\n",
              "      <th>City</th>\n",
              "      <th>Zip_Code</th>\n",
              "      <th>Mileage</th>\n",
              "      <th>Cylinder_Number</th>\n",
              "      <th>Wheel_Drive_Number</th>\n",
              "      <th>MPG_City</th>\n",
              "      <th>MPG_Highway</th>\n",
              "      <th>Car_Age</th>\n",
              "      <th>Price</th>\n",
              "    </tr>\n",
              "  </thead>\n",
              "  <tbody>\n",
              "    <tr>\n",
              "      <th>0</th>\n",
              "      <td>Toyota</td>\n",
              "      <td>Camry</td>\n",
              "      <td>SEDAN</td>\n",
              "      <td>Used</td>\n",
              "      <td>Silver</td>\n",
              "      <td>NaN</td>\n",
              "      <td>Automatic</td>\n",
              "      <td>Gasoline</td>\n",
              "      <td>San Antonio</td>\n",
              "      <td>78233</td>\n",
              "      <td>5507.0</td>\n",
              "      <td>4.0</td>\n",
              "      <td>2.0</td>\n",
              "      <td>27.0</td>\n",
              "      <td>38.0</td>\n",
              "      <td>1</td>\n",
              "      <td>38997.0</td>\n",
              "    </tr>\n",
              "    <tr>\n",
              "      <th>1</th>\n",
              "      <td>Toyota</td>\n",
              "      <td>Supra</td>\n",
              "      <td>COUPE</td>\n",
              "      <td>Used</td>\n",
              "      <td>Red</td>\n",
              "      <td>NaN</td>\n",
              "      <td>Automatic</td>\n",
              "      <td>Gasoline</td>\n",
              "      <td>San Antonio</td>\n",
              "      <td>78233</td>\n",
              "      <td>7094.0</td>\n",
              "      <td>4.0</td>\n",
              "      <td>2.0</td>\n",
              "      <td>25.0</td>\n",
              "      <td>32.0</td>\n",
              "      <td>1</td>\n",
              "      <td>51997.0</td>\n",
              "    </tr>\n",
              "    <tr>\n",
              "      <th>2</th>\n",
              "      <td>Ford</td>\n",
              "      <td>F250</td>\n",
              "      <td>TRUCKS</td>\n",
              "      <td>Used</td>\n",
              "      <td>White</td>\n",
              "      <td>Java</td>\n",
              "      <td>Automatic</td>\n",
              "      <td>Diesel</td>\n",
              "      <td>San Antonio</td>\n",
              "      <td>78219</td>\n",
              "      <td>19135.0</td>\n",
              "      <td>8.0</td>\n",
              "      <td>4.0</td>\n",
              "      <td>NaN</td>\n",
              "      <td>NaN</td>\n",
              "      <td>2</td>\n",
              "      <td>80500.0</td>\n",
              "    </tr>\n",
              "    <tr>\n",
              "      <th>3</th>\n",
              "      <td>Ford</td>\n",
              "      <td>Escape</td>\n",
              "      <td>SUV</td>\n",
              "      <td>Used</td>\n",
              "      <td>Blue</td>\n",
              "      <td>NaN</td>\n",
              "      <td>Automatic</td>\n",
              "      <td>Flexible Fuel</td>\n",
              "      <td>San Antonio</td>\n",
              "      <td>78233</td>\n",
              "      <td>26196.0</td>\n",
              "      <td>4.0</td>\n",
              "      <td>2.0</td>\n",
              "      <td>21.0</td>\n",
              "      <td>29.0</td>\n",
              "      <td>3</td>\n",
              "      <td>24997.0</td>\n",
              "    </tr>\n",
              "    <tr>\n",
              "      <th>4</th>\n",
              "      <td>Toyota</td>\n",
              "      <td>RAV4</td>\n",
              "      <td>SUV</td>\n",
              "      <td>Used</td>\n",
              "      <td>Purple</td>\n",
              "      <td>NaN</td>\n",
              "      <td>Automatic</td>\n",
              "      <td>Gasoline</td>\n",
              "      <td>San Antonio</td>\n",
              "      <td>78233</td>\n",
              "      <td>37486.0</td>\n",
              "      <td>4.0</td>\n",
              "      <td>2.0</td>\n",
              "      <td>23.0</td>\n",
              "      <td>30.0</td>\n",
              "      <td>4</td>\n",
              "      <td>29287.0</td>\n",
              "    </tr>\n",
              "  </tbody>\n",
              "</table>\n",
              "</div>"
            ],
            "text/plain": [
              "    Brand   Model    Body Certification Exterior_Color Interior_Color  \\\n",
              "0  Toyota   Camry   SEDAN          Used         Silver            NaN   \n",
              "1  Toyota   Supra   COUPE          Used            Red            NaN   \n",
              "2    Ford    F250  TRUCKS          Used          White           Java   \n",
              "3    Ford  Escape     SUV          Used           Blue            NaN   \n",
              "4  Toyota    RAV4     SUV          Used         Purple            NaN   \n",
              "\n",
              "  Transmission_Type      Fuel_Type         City  Zip_Code  Mileage  \\\n",
              "0         Automatic       Gasoline  San Antonio     78233   5507.0   \n",
              "1         Automatic       Gasoline  San Antonio     78233   7094.0   \n",
              "2         Automatic         Diesel  San Antonio     78219  19135.0   \n",
              "3         Automatic  Flexible Fuel  San Antonio     78233  26196.0   \n",
              "4         Automatic       Gasoline  San Antonio     78233  37486.0   \n",
              "\n",
              "   Cylinder_Number  Wheel_Drive_Number  MPG_City  MPG_Highway  Car_Age  \\\n",
              "0              4.0                 2.0      27.0         38.0        1   \n",
              "1              4.0                 2.0      25.0         32.0        1   \n",
              "2              8.0                 4.0       NaN          NaN        2   \n",
              "3              4.0                 2.0      21.0         29.0        3   \n",
              "4              4.0                 2.0      23.0         30.0        4   \n",
              "\n",
              "     Price  \n",
              "0  38997.0  \n",
              "1  51997.0  \n",
              "2  80500.0  \n",
              "3  24997.0  \n",
              "4  29287.0  "
            ]
          },
          "execution_count": 7,
          "metadata": {},
          "output_type": "execute_result"
        }
      ],
      "source": [
        "imported_dataset.head()"
      ]
    },
    {
      "cell_type": "code",
      "execution_count": 8,
      "metadata": {},
      "outputs": [
        {
          "data": {
            "text/plain": [
              "(12481, 17)"
            ]
          },
          "execution_count": 8,
          "metadata": {},
          "output_type": "execute_result"
        }
      ],
      "source": [
        "imported_dataset.shape"
      ]
    },
    {
      "cell_type": "code",
      "execution_count": 9,
      "metadata": {},
      "outputs": [
        {
          "data": {
            "text/html": [
              "<div>\n",
              "<style scoped>\n",
              "    .dataframe tbody tr th:only-of-type {\n",
              "        vertical-align: middle;\n",
              "    }\n",
              "\n",
              "    .dataframe tbody tr th {\n",
              "        vertical-align: top;\n",
              "    }\n",
              "\n",
              "    .dataframe thead th {\n",
              "        text-align: right;\n",
              "    }\n",
              "</style>\n",
              "<table border=\"1\" class=\"dataframe\">\n",
              "  <thead>\n",
              "    <tr style=\"text-align: right;\">\n",
              "      <th></th>\n",
              "      <th>Missing_Data</th>\n",
              "      <th>Missing_Data (%)</th>\n",
              "      <th>Data_Type</th>\n",
              "    </tr>\n",
              "  </thead>\n",
              "  <tbody>\n",
              "    <tr>\n",
              "      <th>Brand</th>\n",
              "      <td>0</td>\n",
              "      <td>0.00</td>\n",
              "      <td>object</td>\n",
              "    </tr>\n",
              "    <tr>\n",
              "      <th>Model</th>\n",
              "      <td>0</td>\n",
              "      <td>0.00</td>\n",
              "      <td>object</td>\n",
              "    </tr>\n",
              "    <tr>\n",
              "      <th>Body</th>\n",
              "      <td>0</td>\n",
              "      <td>0.00</td>\n",
              "      <td>object</td>\n",
              "    </tr>\n",
              "    <tr>\n",
              "      <th>Certification</th>\n",
              "      <td>0</td>\n",
              "      <td>0.00</td>\n",
              "      <td>object</td>\n",
              "    </tr>\n",
              "    <tr>\n",
              "      <th>Exterior_Color</th>\n",
              "      <td>249</td>\n",
              "      <td>2.00</td>\n",
              "      <td>object</td>\n",
              "    </tr>\n",
              "    <tr>\n",
              "      <th>Interior_Color</th>\n",
              "      <td>484</td>\n",
              "      <td>3.88</td>\n",
              "      <td>object</td>\n",
              "    </tr>\n",
              "    <tr>\n",
              "      <th>Transmission_Type</th>\n",
              "      <td>41</td>\n",
              "      <td>0.33</td>\n",
              "      <td>object</td>\n",
              "    </tr>\n",
              "    <tr>\n",
              "      <th>Fuel_Type</th>\n",
              "      <td>0</td>\n",
              "      <td>0.00</td>\n",
              "      <td>object</td>\n",
              "    </tr>\n",
              "    <tr>\n",
              "      <th>City</th>\n",
              "      <td>0</td>\n",
              "      <td>0.00</td>\n",
              "      <td>object</td>\n",
              "    </tr>\n",
              "    <tr>\n",
              "      <th>Zip_Code</th>\n",
              "      <td>0</td>\n",
              "      <td>0.00</td>\n",
              "      <td>int64</td>\n",
              "    </tr>\n",
              "    <tr>\n",
              "      <th>Mileage</th>\n",
              "      <td>11</td>\n",
              "      <td>0.09</td>\n",
              "      <td>float64</td>\n",
              "    </tr>\n",
              "    <tr>\n",
              "      <th>Cylinder_Number</th>\n",
              "      <td>445</td>\n",
              "      <td>3.57</td>\n",
              "      <td>float64</td>\n",
              "    </tr>\n",
              "    <tr>\n",
              "      <th>Wheel_Drive_Number</th>\n",
              "      <td>2</td>\n",
              "      <td>0.02</td>\n",
              "      <td>float64</td>\n",
              "    </tr>\n",
              "    <tr>\n",
              "      <th>MPG_City</th>\n",
              "      <td>570</td>\n",
              "      <td>4.57</td>\n",
              "      <td>float64</td>\n",
              "    </tr>\n",
              "    <tr>\n",
              "      <th>MPG_Highway</th>\n",
              "      <td>570</td>\n",
              "      <td>4.57</td>\n",
              "      <td>float64</td>\n",
              "    </tr>\n",
              "    <tr>\n",
              "      <th>Car_Age</th>\n",
              "      <td>0</td>\n",
              "      <td>0.00</td>\n",
              "      <td>int64</td>\n",
              "    </tr>\n",
              "    <tr>\n",
              "      <th>Price</th>\n",
              "      <td>0</td>\n",
              "      <td>0.00</td>\n",
              "      <td>float64</td>\n",
              "    </tr>\n",
              "  </tbody>\n",
              "</table>\n",
              "</div>"
            ],
            "text/plain": [
              "                    Missing_Data  Missing_Data (%) Data_Type\n",
              "Brand                          0              0.00    object\n",
              "Model                          0              0.00    object\n",
              "Body                           0              0.00    object\n",
              "Certification                  0              0.00    object\n",
              "Exterior_Color               249              2.00    object\n",
              "Interior_Color               484              3.88    object\n",
              "Transmission_Type             41              0.33    object\n",
              "Fuel_Type                      0              0.00    object\n",
              "City                           0              0.00    object\n",
              "Zip_Code                       0              0.00     int64\n",
              "Mileage                       11              0.09   float64\n",
              "Cylinder_Number              445              3.57   float64\n",
              "Wheel_Drive_Number             2              0.02   float64\n",
              "MPG_City                     570              4.57   float64\n",
              "MPG_Highway                  570              4.57   float64\n",
              "Car_Age                        0              0.00     int64\n",
              "Price                          0              0.00   float64"
            ]
          },
          "execution_count": 9,
          "metadata": {},
          "output_type": "execute_result"
        }
      ],
      "source": [
        "Check_Missing_Values(imported_dataset)"
      ]
    },
    {
      "cell_type": "code",
      "execution_count": 10,
      "metadata": {},
      "outputs": [],
      "source": [
        "# convert Zip_Code to object\n",
        "imported_dataset['Zip_Code'] = imported_dataset['Zip_Code'].astype(str)"
      ]
    },
    {
      "cell_type": "markdown",
      "metadata": {},
      "source": [
        "### Split the dataset into training and test dataset"
      ]
    },
    {
      "cell_type": "code",
      "execution_count": 11,
      "metadata": {},
      "outputs": [],
      "source": [
        "# decoupling the dependent and independent variables\n",
        "X = imported_dataset.iloc[:, :-1]\n",
        "y = imported_dataset.iloc[:, -1]"
      ]
    },
    {
      "cell_type": "code",
      "execution_count": 12,
      "metadata": {},
      "outputs": [],
      "source": [
        "# Train, Test split\n",
        "# from now on till the model training we will only use X_train, y_train\n",
        "# X_test and y_test will only be used during model testing\n",
        "X_train, X_test, y_train, y_test = train_test_split(X, y, test_size = 0.2, random_state = 42)\n",
        "\n",
        "# backup copy the dataset for feature reference\n",
        "backup_X_train = X_train.copy()\n",
        "backup_X_test = X_test.copy()"
      ]
    },
    {
      "cell_type": "code",
      "execution_count": 13,
      "metadata": {},
      "outputs": [
        {
          "data": {
            "text/html": [
              "<div>\n",
              "<style scoped>\n",
              "    .dataframe tbody tr th:only-of-type {\n",
              "        vertical-align: middle;\n",
              "    }\n",
              "\n",
              "    .dataframe tbody tr th {\n",
              "        vertical-align: top;\n",
              "    }\n",
              "\n",
              "    .dataframe thead th {\n",
              "        text-align: right;\n",
              "    }\n",
              "</style>\n",
              "<table border=\"1\" class=\"dataframe\">\n",
              "  <thead>\n",
              "    <tr style=\"text-align: right;\">\n",
              "      <th></th>\n",
              "      <th>Brand</th>\n",
              "      <th>Model</th>\n",
              "      <th>Body</th>\n",
              "      <th>Certification</th>\n",
              "      <th>Exterior_Color</th>\n",
              "      <th>Interior_Color</th>\n",
              "      <th>Transmission_Type</th>\n",
              "      <th>Fuel_Type</th>\n",
              "      <th>City</th>\n",
              "      <th>Zip_Code</th>\n",
              "      <th>Mileage</th>\n",
              "      <th>Cylinder_Number</th>\n",
              "      <th>Wheel_Drive_Number</th>\n",
              "      <th>MPG_City</th>\n",
              "      <th>MPG_Highway</th>\n",
              "      <th>Car_Age</th>\n",
              "    </tr>\n",
              "  </thead>\n",
              "  <tbody>\n",
              "    <tr>\n",
              "      <th>713</th>\n",
              "      <td>MAZDA</td>\n",
              "      <td>MAZDA6</td>\n",
              "      <td>SEDAN</td>\n",
              "      <td>Used</td>\n",
              "      <td>Blue</td>\n",
              "      <td>Parchment</td>\n",
              "      <td>Automatic</td>\n",
              "      <td>Gasoline</td>\n",
              "      <td>San Diego</td>\n",
              "      <td>92111</td>\n",
              "      <td>26272.0</td>\n",
              "      <td>4.0</td>\n",
              "      <td>2.0</td>\n",
              "      <td>26.0</td>\n",
              "      <td>35.0</td>\n",
              "      <td>5</td>\n",
              "    </tr>\n",
              "    <tr>\n",
              "      <th>6255</th>\n",
              "      <td>Hyundai</td>\n",
              "      <td>Tucson</td>\n",
              "      <td>SUV</td>\n",
              "      <td>Used</td>\n",
              "      <td>Blue</td>\n",
              "      <td>Black</td>\n",
              "      <td>Automatic</td>\n",
              "      <td>Gasoline</td>\n",
              "      <td>Seattle</td>\n",
              "      <td>98036</td>\n",
              "      <td>20374.0</td>\n",
              "      <td>4.0</td>\n",
              "      <td>4.0</td>\n",
              "      <td>21.0</td>\n",
              "      <td>26.0</td>\n",
              "      <td>3</td>\n",
              "    </tr>\n",
              "    <tr>\n",
              "      <th>7457</th>\n",
              "      <td>INFINITI</td>\n",
              "      <td>Q50</td>\n",
              "      <td>SEDAN</td>\n",
              "      <td>Used</td>\n",
              "      <td>Brown</td>\n",
              "      <td>Wheat</td>\n",
              "      <td>Automatic</td>\n",
              "      <td>Gasoline</td>\n",
              "      <td>San Jose</td>\n",
              "      <td>95129</td>\n",
              "      <td>30547.0</td>\n",
              "      <td>6.0</td>\n",
              "      <td>2.0</td>\n",
              "      <td>20.0</td>\n",
              "      <td>29.0</td>\n",
              "      <td>4</td>\n",
              "    </tr>\n",
              "    <tr>\n",
              "      <th>1087</th>\n",
              "      <td>Toyota</td>\n",
              "      <td>RAV4</td>\n",
              "      <td>SUV</td>\n",
              "      <td>Used</td>\n",
              "      <td>Silver</td>\n",
              "      <td>Black</td>\n",
              "      <td>Automatic</td>\n",
              "      <td>Gasoline</td>\n",
              "      <td>San Diego</td>\n",
              "      <td>92108</td>\n",
              "      <td>24423.0</td>\n",
              "      <td>4.0</td>\n",
              "      <td>2.0</td>\n",
              "      <td>26.0</td>\n",
              "      <td>35.0</td>\n",
              "      <td>3</td>\n",
              "    </tr>\n",
              "    <tr>\n",
              "      <th>6820</th>\n",
              "      <td>BMW</td>\n",
              "      <td>X2</td>\n",
              "      <td>SUV</td>\n",
              "      <td>Used</td>\n",
              "      <td>White</td>\n",
              "      <td>Black</td>\n",
              "      <td>Automatic</td>\n",
              "      <td>Gasoline</td>\n",
              "      <td>San Jose</td>\n",
              "      <td>95051</td>\n",
              "      <td>32042.0</td>\n",
              "      <td>4.0</td>\n",
              "      <td>4.0</td>\n",
              "      <td>21.0</td>\n",
              "      <td>31.0</td>\n",
              "      <td>4</td>\n",
              "    </tr>\n",
              "  </tbody>\n",
              "</table>\n",
              "</div>"
            ],
            "text/plain": [
              "         Brand   Model   Body Certification Exterior_Color Interior_Color  \\\n",
              "713      MAZDA  MAZDA6  SEDAN          Used           Blue      Parchment   \n",
              "6255   Hyundai  Tucson    SUV          Used           Blue          Black   \n",
              "7457  INFINITI     Q50  SEDAN          Used          Brown          Wheat   \n",
              "1087    Toyota    RAV4    SUV          Used         Silver          Black   \n",
              "6820       BMW      X2    SUV          Used          White          Black   \n",
              "\n",
              "     Transmission_Type Fuel_Type       City Zip_Code  Mileage  \\\n",
              "713          Automatic  Gasoline  San Diego    92111  26272.0   \n",
              "6255         Automatic  Gasoline    Seattle    98036  20374.0   \n",
              "7457         Automatic  Gasoline   San Jose    95129  30547.0   \n",
              "1087         Automatic  Gasoline  San Diego    92108  24423.0   \n",
              "6820         Automatic  Gasoline   San Jose    95051  32042.0   \n",
              "\n",
              "      Cylinder_Number  Wheel_Drive_Number  MPG_City  MPG_Highway  Car_Age  \n",
              "713               4.0                 2.0      26.0         35.0        5  \n",
              "6255              4.0                 4.0      21.0         26.0        3  \n",
              "7457              6.0                 2.0      20.0         29.0        4  \n",
              "1087              4.0                 2.0      26.0         35.0        3  \n",
              "6820              4.0                 4.0      21.0         31.0        4  "
            ]
          },
          "execution_count": 13,
          "metadata": {},
          "output_type": "execute_result"
        }
      ],
      "source": [
        "X_train.head()"
      ]
    },
    {
      "cell_type": "code",
      "execution_count": 14,
      "metadata": {},
      "outputs": [
        {
          "data": {
            "text/html": [
              "<div>\n",
              "<style scoped>\n",
              "    .dataframe tbody tr th:only-of-type {\n",
              "        vertical-align: middle;\n",
              "    }\n",
              "\n",
              "    .dataframe tbody tr th {\n",
              "        vertical-align: top;\n",
              "    }\n",
              "\n",
              "    .dataframe thead th {\n",
              "        text-align: right;\n",
              "    }\n",
              "</style>\n",
              "<table border=\"1\" class=\"dataframe\">\n",
              "  <thead>\n",
              "    <tr style=\"text-align: right;\">\n",
              "      <th></th>\n",
              "      <th>Brand</th>\n",
              "      <th>Model</th>\n",
              "      <th>Body</th>\n",
              "      <th>Certification</th>\n",
              "      <th>Exterior_Color</th>\n",
              "      <th>Interior_Color</th>\n",
              "      <th>Transmission_Type</th>\n",
              "      <th>Fuel_Type</th>\n",
              "      <th>City</th>\n",
              "      <th>Zip_Code</th>\n",
              "      <th>Mileage</th>\n",
              "      <th>Cylinder_Number</th>\n",
              "      <th>Wheel_Drive_Number</th>\n",
              "      <th>MPG_City</th>\n",
              "      <th>MPG_Highway</th>\n",
              "      <th>Car_Age</th>\n",
              "    </tr>\n",
              "  </thead>\n",
              "  <tbody>\n",
              "    <tr>\n",
              "      <th>5961</th>\n",
              "      <td>Tesla</td>\n",
              "      <td>Model S</td>\n",
              "      <td>HATCH</td>\n",
              "      <td>Used</td>\n",
              "      <td>Green</td>\n",
              "      <td>Black</td>\n",
              "      <td>Single-Speed</td>\n",
              "      <td>Electric</td>\n",
              "      <td>Seattle</td>\n",
              "      <td>98004</td>\n",
              "      <td>48962.0</td>\n",
              "      <td>NaN</td>\n",
              "      <td>2.0</td>\n",
              "      <td>NaN</td>\n",
              "      <td>NaN</td>\n",
              "      <td>9</td>\n",
              "    </tr>\n",
              "    <tr>\n",
              "      <th>12268</th>\n",
              "      <td>Hyundai</td>\n",
              "      <td>Santa Fe</td>\n",
              "      <td>SUV</td>\n",
              "      <td>Used</td>\n",
              "      <td>Silver</td>\n",
              "      <td>Gray</td>\n",
              "      <td>Automatic</td>\n",
              "      <td>Gasoline</td>\n",
              "      <td>Fort Worth</td>\n",
              "      <td>76051</td>\n",
              "      <td>27620.0</td>\n",
              "      <td>6.0</td>\n",
              "      <td>2.0</td>\n",
              "      <td>18.0</td>\n",
              "      <td>25.0</td>\n",
              "      <td>3</td>\n",
              "    </tr>\n",
              "    <tr>\n",
              "      <th>9706</th>\n",
              "      <td>Acura</td>\n",
              "      <td>TLX</td>\n",
              "      <td>SEDAN</td>\n",
              "      <td>Used</td>\n",
              "      <td>Gray</td>\n",
              "      <td>Graystone</td>\n",
              "      <td>Automatic</td>\n",
              "      <td>Gasoline</td>\n",
              "      <td>Jacksonville</td>\n",
              "      <td>32225</td>\n",
              "      <td>58967.0</td>\n",
              "      <td>4.0</td>\n",
              "      <td>2.0</td>\n",
              "      <td>24.0</td>\n",
              "      <td>35.0</td>\n",
              "      <td>6</td>\n",
              "    </tr>\n",
              "    <tr>\n",
              "      <th>4884</th>\n",
              "      <td>Toyota</td>\n",
              "      <td>Camry</td>\n",
              "      <td>SEDAN</td>\n",
              "      <td>Certified</td>\n",
              "      <td>Silver</td>\n",
              "      <td>Black</td>\n",
              "      <td>Automatic</td>\n",
              "      <td>Gasoline</td>\n",
              "      <td>Los Angeles</td>\n",
              "      <td>90266</td>\n",
              "      <td>7948.0</td>\n",
              "      <td>4.0</td>\n",
              "      <td>2.0</td>\n",
              "      <td>29.0</td>\n",
              "      <td>41.0</td>\n",
              "      <td>3</td>\n",
              "    </tr>\n",
              "    <tr>\n",
              "      <th>2325</th>\n",
              "      <td>Cadillac</td>\n",
              "      <td>Escalade</td>\n",
              "      <td>SUV</td>\n",
              "      <td>Used</td>\n",
              "      <td>Silver</td>\n",
              "      <td>Shale W/Cocoa Accents</td>\n",
              "      <td>Automatic</td>\n",
              "      <td>Gasoline</td>\n",
              "      <td>Denver</td>\n",
              "      <td>80203</td>\n",
              "      <td>64339.0</td>\n",
              "      <td>8.0</td>\n",
              "      <td>4.0</td>\n",
              "      <td>14.0</td>\n",
              "      <td>21.0</td>\n",
              "      <td>7</td>\n",
              "    </tr>\n",
              "  </tbody>\n",
              "</table>\n",
              "</div>"
            ],
            "text/plain": [
              "          Brand     Model   Body Certification Exterior_Color  \\\n",
              "5961      Tesla   Model S  HATCH          Used          Green   \n",
              "12268   Hyundai  Santa Fe    SUV          Used         Silver   \n",
              "9706      Acura       TLX  SEDAN          Used           Gray   \n",
              "4884     Toyota     Camry  SEDAN     Certified         Silver   \n",
              "2325   Cadillac  Escalade    SUV          Used         Silver   \n",
              "\n",
              "              Interior_Color Transmission_Type Fuel_Type          City  \\\n",
              "5961                   Black      Single-Speed  Electric       Seattle   \n",
              "12268                   Gray         Automatic  Gasoline    Fort Worth   \n",
              "9706               Graystone         Automatic  Gasoline  Jacksonville   \n",
              "4884                   Black         Automatic  Gasoline   Los Angeles   \n",
              "2325   Shale W/Cocoa Accents         Automatic  Gasoline        Denver   \n",
              "\n",
              "      Zip_Code  Mileage  Cylinder_Number  Wheel_Drive_Number  MPG_City  \\\n",
              "5961     98004  48962.0              NaN                 2.0       NaN   \n",
              "12268    76051  27620.0              6.0                 2.0      18.0   \n",
              "9706     32225  58967.0              4.0                 2.0      24.0   \n",
              "4884     90266   7948.0              4.0                 2.0      29.0   \n",
              "2325     80203  64339.0              8.0                 4.0      14.0   \n",
              "\n",
              "       MPG_Highway  Car_Age  \n",
              "5961           NaN        9  \n",
              "12268         25.0        3  \n",
              "9706          35.0        6  \n",
              "4884          41.0        3  \n",
              "2325          21.0        7  "
            ]
          },
          "execution_count": 14,
          "metadata": {},
          "output_type": "execute_result"
        }
      ],
      "source": [
        "X_test.head()"
      ]
    },
    {
      "cell_type": "code",
      "execution_count": 15,
      "metadata": {},
      "outputs": [
        {
          "name": "stdout",
          "output_type": "stream",
          "text": [
            "(9984, 16)\n",
            "(2497, 16)\n"
          ]
        }
      ],
      "source": [
        "print(X_train.shape)\n",
        "print(X_test.shape)"
      ]
    },
    {
      "cell_type": "markdown",
      "metadata": {},
      "source": [
        "### Dealing with missing categorical features"
      ]
    },
    {
      "cell_type": "code",
      "execution_count": 16,
      "metadata": {},
      "outputs": [
        {
          "data": {
            "text/html": [
              "<div>\n",
              "<style scoped>\n",
              "    .dataframe tbody tr th:only-of-type {\n",
              "        vertical-align: middle;\n",
              "    }\n",
              "\n",
              "    .dataframe tbody tr th {\n",
              "        vertical-align: top;\n",
              "    }\n",
              "\n",
              "    .dataframe thead th {\n",
              "        text-align: right;\n",
              "    }\n",
              "</style>\n",
              "<table border=\"1\" class=\"dataframe\">\n",
              "  <thead>\n",
              "    <tr style=\"text-align: right;\">\n",
              "      <th></th>\n",
              "      <th>Missing_Data</th>\n",
              "      <th>Missing_Data (%)</th>\n",
              "      <th>Data_Type</th>\n",
              "    </tr>\n",
              "  </thead>\n",
              "  <tbody>\n",
              "    <tr>\n",
              "      <th>Brand</th>\n",
              "      <td>0</td>\n",
              "      <td>0.00</td>\n",
              "      <td>object</td>\n",
              "    </tr>\n",
              "    <tr>\n",
              "      <th>Model</th>\n",
              "      <td>0</td>\n",
              "      <td>0.00</td>\n",
              "      <td>object</td>\n",
              "    </tr>\n",
              "    <tr>\n",
              "      <th>Body</th>\n",
              "      <td>0</td>\n",
              "      <td>0.00</td>\n",
              "      <td>object</td>\n",
              "    </tr>\n",
              "    <tr>\n",
              "      <th>Certification</th>\n",
              "      <td>0</td>\n",
              "      <td>0.00</td>\n",
              "      <td>object</td>\n",
              "    </tr>\n",
              "    <tr>\n",
              "      <th>Exterior_Color</th>\n",
              "      <td>190</td>\n",
              "      <td>1.90</td>\n",
              "      <td>object</td>\n",
              "    </tr>\n",
              "    <tr>\n",
              "      <th>Interior_Color</th>\n",
              "      <td>389</td>\n",
              "      <td>3.90</td>\n",
              "      <td>object</td>\n",
              "    </tr>\n",
              "    <tr>\n",
              "      <th>Transmission_Type</th>\n",
              "      <td>34</td>\n",
              "      <td>0.34</td>\n",
              "      <td>object</td>\n",
              "    </tr>\n",
              "    <tr>\n",
              "      <th>Fuel_Type</th>\n",
              "      <td>0</td>\n",
              "      <td>0.00</td>\n",
              "      <td>object</td>\n",
              "    </tr>\n",
              "    <tr>\n",
              "      <th>City</th>\n",
              "      <td>0</td>\n",
              "      <td>0.00</td>\n",
              "      <td>object</td>\n",
              "    </tr>\n",
              "    <tr>\n",
              "      <th>Zip_Code</th>\n",
              "      <td>0</td>\n",
              "      <td>0.00</td>\n",
              "      <td>object</td>\n",
              "    </tr>\n",
              "    <tr>\n",
              "      <th>Mileage</th>\n",
              "      <td>9</td>\n",
              "      <td>0.09</td>\n",
              "      <td>float64</td>\n",
              "    </tr>\n",
              "    <tr>\n",
              "      <th>Cylinder_Number</th>\n",
              "      <td>344</td>\n",
              "      <td>3.45</td>\n",
              "      <td>float64</td>\n",
              "    </tr>\n",
              "    <tr>\n",
              "      <th>Wheel_Drive_Number</th>\n",
              "      <td>2</td>\n",
              "      <td>0.02</td>\n",
              "      <td>float64</td>\n",
              "    </tr>\n",
              "    <tr>\n",
              "      <th>MPG_City</th>\n",
              "      <td>439</td>\n",
              "      <td>4.40</td>\n",
              "      <td>float64</td>\n",
              "    </tr>\n",
              "    <tr>\n",
              "      <th>MPG_Highway</th>\n",
              "      <td>439</td>\n",
              "      <td>4.40</td>\n",
              "      <td>float64</td>\n",
              "    </tr>\n",
              "    <tr>\n",
              "      <th>Car_Age</th>\n",
              "      <td>0</td>\n",
              "      <td>0.00</td>\n",
              "      <td>int64</td>\n",
              "    </tr>\n",
              "  </tbody>\n",
              "</table>\n",
              "</div>"
            ],
            "text/plain": [
              "                    Missing_Data  Missing_Data (%) Data_Type\n",
              "Brand                          0              0.00    object\n",
              "Model                          0              0.00    object\n",
              "Body                           0              0.00    object\n",
              "Certification                  0              0.00    object\n",
              "Exterior_Color               190              1.90    object\n",
              "Interior_Color               389              3.90    object\n",
              "Transmission_Type             34              0.34    object\n",
              "Fuel_Type                      0              0.00    object\n",
              "City                           0              0.00    object\n",
              "Zip_Code                       0              0.00    object\n",
              "Mileage                        9              0.09   float64\n",
              "Cylinder_Number              344              3.45   float64\n",
              "Wheel_Drive_Number             2              0.02   float64\n",
              "MPG_City                     439              4.40   float64\n",
              "MPG_Highway                  439              4.40   float64\n",
              "Car_Age                        0              0.00     int64"
            ]
          },
          "execution_count": 16,
          "metadata": {},
          "output_type": "execute_result"
        }
      ],
      "source": [
        "Check_Missing_Values(X_train)"
      ]
    },
    {
      "cell_type": "code",
      "execution_count": 17,
      "metadata": {},
      "outputs": [],
      "source": [
        "# replace missing categorical variables with the object Missing_Value_XYZ\n",
        "X_train['Exterior_Color'] = X_train['Exterior_Color'].fillna('Missing_Value_EC')\n",
        "X_train['Interior_Color'] = X_train['Interior_Color'].fillna('Missing_Value_IC')\n",
        "X_train['Transmission_Type'] = X_train['Transmission_Type'].fillna('Missing_Value_TT')"
      ]
    },
    {
      "cell_type": "markdown",
      "metadata": {},
      "source": [
        "### Dealing with missing numerical features"
      ]
    },
    {
      "cell_type": "code",
      "execution_count": 18,
      "metadata": {},
      "outputs": [
        {
          "data": {
            "text/html": [
              "<div>\n",
              "<style scoped>\n",
              "    .dataframe tbody tr th:only-of-type {\n",
              "        vertical-align: middle;\n",
              "    }\n",
              "\n",
              "    .dataframe tbody tr th {\n",
              "        vertical-align: top;\n",
              "    }\n",
              "\n",
              "    .dataframe thead th {\n",
              "        text-align: right;\n",
              "    }\n",
              "</style>\n",
              "<table border=\"1\" class=\"dataframe\">\n",
              "  <thead>\n",
              "    <tr style=\"text-align: right;\">\n",
              "      <th></th>\n",
              "      <th>Missing_Data</th>\n",
              "      <th>Missing_Data (%)</th>\n",
              "      <th>Data_Type</th>\n",
              "    </tr>\n",
              "  </thead>\n",
              "  <tbody>\n",
              "    <tr>\n",
              "      <th>Brand</th>\n",
              "      <td>0</td>\n",
              "      <td>0.00</td>\n",
              "      <td>object</td>\n",
              "    </tr>\n",
              "    <tr>\n",
              "      <th>Model</th>\n",
              "      <td>0</td>\n",
              "      <td>0.00</td>\n",
              "      <td>object</td>\n",
              "    </tr>\n",
              "    <tr>\n",
              "      <th>Body</th>\n",
              "      <td>0</td>\n",
              "      <td>0.00</td>\n",
              "      <td>object</td>\n",
              "    </tr>\n",
              "    <tr>\n",
              "      <th>Certification</th>\n",
              "      <td>0</td>\n",
              "      <td>0.00</td>\n",
              "      <td>object</td>\n",
              "    </tr>\n",
              "    <tr>\n",
              "      <th>Exterior_Color</th>\n",
              "      <td>0</td>\n",
              "      <td>0.00</td>\n",
              "      <td>object</td>\n",
              "    </tr>\n",
              "    <tr>\n",
              "      <th>Interior_Color</th>\n",
              "      <td>0</td>\n",
              "      <td>0.00</td>\n",
              "      <td>object</td>\n",
              "    </tr>\n",
              "    <tr>\n",
              "      <th>Transmission_Type</th>\n",
              "      <td>0</td>\n",
              "      <td>0.00</td>\n",
              "      <td>object</td>\n",
              "    </tr>\n",
              "    <tr>\n",
              "      <th>Fuel_Type</th>\n",
              "      <td>0</td>\n",
              "      <td>0.00</td>\n",
              "      <td>object</td>\n",
              "    </tr>\n",
              "    <tr>\n",
              "      <th>City</th>\n",
              "      <td>0</td>\n",
              "      <td>0.00</td>\n",
              "      <td>object</td>\n",
              "    </tr>\n",
              "    <tr>\n",
              "      <th>Zip_Code</th>\n",
              "      <td>0</td>\n",
              "      <td>0.00</td>\n",
              "      <td>object</td>\n",
              "    </tr>\n",
              "    <tr>\n",
              "      <th>Mileage</th>\n",
              "      <td>9</td>\n",
              "      <td>0.09</td>\n",
              "      <td>float64</td>\n",
              "    </tr>\n",
              "    <tr>\n",
              "      <th>Cylinder_Number</th>\n",
              "      <td>344</td>\n",
              "      <td>3.45</td>\n",
              "      <td>float64</td>\n",
              "    </tr>\n",
              "    <tr>\n",
              "      <th>Wheel_Drive_Number</th>\n",
              "      <td>2</td>\n",
              "      <td>0.02</td>\n",
              "      <td>float64</td>\n",
              "    </tr>\n",
              "    <tr>\n",
              "      <th>MPG_City</th>\n",
              "      <td>439</td>\n",
              "      <td>4.40</td>\n",
              "      <td>float64</td>\n",
              "    </tr>\n",
              "    <tr>\n",
              "      <th>MPG_Highway</th>\n",
              "      <td>439</td>\n",
              "      <td>4.40</td>\n",
              "      <td>float64</td>\n",
              "    </tr>\n",
              "    <tr>\n",
              "      <th>Car_Age</th>\n",
              "      <td>0</td>\n",
              "      <td>0.00</td>\n",
              "      <td>int64</td>\n",
              "    </tr>\n",
              "  </tbody>\n",
              "</table>\n",
              "</div>"
            ],
            "text/plain": [
              "                    Missing_Data  Missing_Data (%) Data_Type\n",
              "Brand                          0              0.00    object\n",
              "Model                          0              0.00    object\n",
              "Body                           0              0.00    object\n",
              "Certification                  0              0.00    object\n",
              "Exterior_Color                 0              0.00    object\n",
              "Interior_Color                 0              0.00    object\n",
              "Transmission_Type              0              0.00    object\n",
              "Fuel_Type                      0              0.00    object\n",
              "City                           0              0.00    object\n",
              "Zip_Code                       0              0.00    object\n",
              "Mileage                        9              0.09   float64\n",
              "Cylinder_Number              344              3.45   float64\n",
              "Wheel_Drive_Number             2              0.02   float64\n",
              "MPG_City                     439              4.40   float64\n",
              "MPG_Highway                  439              4.40   float64\n",
              "Car_Age                        0              0.00     int64"
            ]
          },
          "execution_count": 18,
          "metadata": {},
          "output_type": "execute_result"
        }
      ],
      "source": [
        "Check_Missing_Values(X_train)"
      ]
    },
    {
      "cell_type": "code",
      "execution_count": 19,
      "metadata": {},
      "outputs": [],
      "source": [
        "# for Cylinder_Number, Wheel_Drive_Number we will replace the missing \n",
        "# values by mode (most_frequent), as they can have certain specific values\n",
        "imputer_frequent = SimpleImputer(missing_values=np.nan, strategy='most_frequent')\n",
        "imputer_frequent.fit(X_train[['Cylinder_Number', 'Wheel_Drive_Number']])\n",
        "X_train[['Cylinder_Number', 'Wheel_Drive_Number']] = imputer_frequent.transform(X_train[['Cylinder_Number', 'Wheel_Drive_Number']])"
      ]
    },
    {
      "cell_type": "code",
      "execution_count": 20,
      "metadata": {},
      "outputs": [],
      "source": [
        "# for MPG_City, MPG_Highway we will replace the missing values by median, \n",
        "# as the mileage per gallon for cars varies in some range\n",
        "# we could have also taken the mean here\n",
        "imputer_median = SimpleImputer(missing_values=np.nan, strategy='median')\n",
        "imputer_median.fit(X_train[['MPG_City', 'MPG_Highway']])\n",
        "X_train[['MPG_City', 'MPG_Highway']] = imputer_median.transform(X_train[['MPG_City', 'MPG_Highway']])"
      ]
    },
    {
      "cell_type": "code",
      "execution_count": 21,
      "metadata": {},
      "outputs": [],
      "source": [
        "# for Mileage/Price we will replace the missing values by mean\n",
        "imputer_mean = SimpleImputer(missing_values=np.nan, strategy='mean')\n",
        "imputer_mean.fit(X_train[['Mileage']])\n",
        "X_train[['Mileage']] = imputer_mean.transform(X_train[['Mileage']])"
      ]
    },
    {
      "cell_type": "markdown",
      "metadata": {},
      "source": [
        "### Get dummies for the categorical features"
      ]
    },
    {
      "cell_type": "code",
      "execution_count": 22,
      "metadata": {},
      "outputs": [
        {
          "data": {
            "text/plain": [
              "(9984, 16)"
            ]
          },
          "execution_count": 22,
          "metadata": {},
          "output_type": "execute_result"
        }
      ],
      "source": [
        "X_train.shape"
      ]
    },
    {
      "cell_type": "code",
      "execution_count": 23,
      "metadata": {},
      "outputs": [],
      "source": [
        "# get dummies for the categorical variables\n",
        "X_train = pd.get_dummies(X_train, drop_first=True)"
      ]
    },
    {
      "cell_type": "code",
      "execution_count": 24,
      "metadata": {},
      "outputs": [
        {
          "data": {
            "text/plain": [
              "(9984, 1736)"
            ]
          },
          "execution_count": 24,
          "metadata": {},
          "output_type": "execute_result"
        }
      ],
      "source": [
        "X_train.shape"
      ]
    },
    {
      "cell_type": "markdown",
      "metadata": {},
      "source": [
        "### Feature selection"
      ]
    },
    {
      "cell_type": "code",
      "execution_count": 25,
      "metadata": {},
      "outputs": [
        {
          "name": "stdout",
          "output_type": "stream",
          "text": [
            "Freature selection using RandomForestRegressor ...\n",
            "Random State:  0\n",
            "MPG_Highway            0.162066\n",
            "Cylinder_Number        0.154941\n",
            "Mileage                0.113583\n",
            "Car_Age                0.102669\n",
            "MPG_City               0.054368\n",
            "Brand_BMW              0.035184\n",
            "Brand_Mercedes-Benz    0.029590\n",
            "Brand_Porsche          0.028852\n",
            "Brand_Tesla            0.022672\n",
            "Wheel_Drive_Number     0.019792\n",
            "dtype: float64\n",
            "Selected features:  19 \tTotal score:  0.8018765534817001\n",
            "['MPG_Highway', 'Cylinder_Number', 'Mileage', 'Car_Age', 'MPG_City', 'Brand_BMW', 'Brand_Mercedes-Benz', 'Brand_Porsche', 'Brand_Tesla', 'Wheel_Drive_Number', 'Brand_Audi', 'Body_TRUCKS', 'Body_SUV', 'Brand_Land Rover', 'Fuel_Type_Gasoline', 'Brand_Lexus', 'Brand_Ford', 'Model_Expedition', 'Model_Corvette']\n",
            "Random State:  1\n",
            "Random State:  2\n",
            "Random State:  3\n",
            "Random State:  4\n",
            "Random State:  5\n",
            "Random State:  6\n",
            "Random State:  7\n",
            "Random State:  8\n",
            "Random State:  9\n",
            "\n",
            "Final selected features: 16\n",
            "Final feature selected list: \n",
            "['Car_Age', 'MPG_City', 'Cylinder_Number', 'Brand_BMW', 'Brand_Land Rover', 'Mileage', 'MPG_Highway', 'Body_TRUCKS', 'Brand_Lexus', 'Brand_Audi', 'Brand_Tesla', 'Brand_Mercedes-Benz', 'Brand_Porsche', 'Fuel_Type_Gasoline', 'Body_SUV', 'Wheel_Drive_Number']\n"
          ]
        }
      ],
      "source": [
        "# now there are lot of features, let's rduce them to only important features\n",
        "# create feature selected dataset from general custom function\n",
        "# Runtime around 8 min\n",
        "Create_Feature_Selected_Dataset(X_train, y_train)"
      ]
    },
    {
      "cell_type": "code",
      "execution_count": 26,
      "metadata": {},
      "outputs": [
        {
          "data": {
            "text/plain": [
              "(9984, 16)"
            ]
          },
          "execution_count": 26,
          "metadata": {},
          "output_type": "execute_result"
        }
      ],
      "source": [
        "X_train.shape"
      ]
    },
    {
      "cell_type": "markdown",
      "metadata": {},
      "source": [
        "### Feature scaling of the training dataset"
      ]
    },
    {
      "cell_type": "code",
      "execution_count": 27,
      "metadata": {},
      "outputs": [
        {
          "name": "stdout",
          "output_type": "stream",
          "text": [
            "['Mileage', 'Cylinder_Number', 'Wheel_Drive_Number', 'MPG_City', 'MPG_Highway', 'Car_Age']\n"
          ]
        }
      ],
      "source": [
        "# numerical feature list\n",
        "# feature scaling will be done on numerical features\n",
        "numerical_feature_list_X_train = list(X_train.select_dtypes(include=['int64', 'float64']).columns)\n",
        "print(numerical_feature_list_X_train)"
      ]
    },
    {
      "cell_type": "code",
      "execution_count": 28,
      "metadata": {},
      "outputs": [],
      "source": [
        "# Feature scaling of numerical features\n",
        "standard_scaler = StandardScaler()\n",
        "X_train[numerical_feature_list_X_train] = standard_scaler.fit_transform(X_train[numerical_feature_list_X_train])"
      ]
    },
    {
      "cell_type": "code",
      "execution_count": 29,
      "metadata": {},
      "outputs": [
        {
          "data": {
            "text/html": [
              "<div>\n",
              "<style scoped>\n",
              "    .dataframe tbody tr th:only-of-type {\n",
              "        vertical-align: middle;\n",
              "    }\n",
              "\n",
              "    .dataframe tbody tr th {\n",
              "        vertical-align: top;\n",
              "    }\n",
              "\n",
              "    .dataframe thead th {\n",
              "        text-align: right;\n",
              "    }\n",
              "</style>\n",
              "<table border=\"1\" class=\"dataframe\">\n",
              "  <thead>\n",
              "    <tr style=\"text-align: right;\">\n",
              "      <th></th>\n",
              "      <th>Mileage</th>\n",
              "      <th>Cylinder_Number</th>\n",
              "      <th>Wheel_Drive_Number</th>\n",
              "      <th>MPG_City</th>\n",
              "      <th>MPG_Highway</th>\n",
              "      <th>Car_Age</th>\n",
              "      <th>Brand_Audi</th>\n",
              "      <th>Brand_BMW</th>\n",
              "      <th>Brand_Land Rover</th>\n",
              "      <th>Brand_Lexus</th>\n",
              "      <th>Brand_Mercedes-Benz</th>\n",
              "      <th>Brand_Porsche</th>\n",
              "      <th>Brand_Tesla</th>\n",
              "      <th>Body_SUV</th>\n",
              "      <th>Body_TRUCKS</th>\n",
              "      <th>Fuel_Type_Gasoline</th>\n",
              "    </tr>\n",
              "  </thead>\n",
              "  <tbody>\n",
              "    <tr>\n",
              "      <th>713</th>\n",
              "      <td>-0.017836</td>\n",
              "      <td>-0.783186</td>\n",
              "      <td>-0.905303</td>\n",
              "      <td>0.922240</td>\n",
              "      <td>1.160537</td>\n",
              "      <td>0.866897</td>\n",
              "      <td>0</td>\n",
              "      <td>0</td>\n",
              "      <td>0</td>\n",
              "      <td>0</td>\n",
              "      <td>0</td>\n",
              "      <td>0</td>\n",
              "      <td>0</td>\n",
              "      <td>0</td>\n",
              "      <td>0</td>\n",
              "      <td>1</td>\n",
              "    </tr>\n",
              "    <tr>\n",
              "      <th>6255</th>\n",
              "      <td>-0.359219</td>\n",
              "      <td>-0.783186</td>\n",
              "      <td>1.104603</td>\n",
              "      <td>-0.171123</td>\n",
              "      <td>-0.572141</td>\n",
              "      <td>-0.290202</td>\n",
              "      <td>0</td>\n",
              "      <td>0</td>\n",
              "      <td>0</td>\n",
              "      <td>0</td>\n",
              "      <td>0</td>\n",
              "      <td>0</td>\n",
              "      <td>0</td>\n",
              "      <td>1</td>\n",
              "      <td>0</td>\n",
              "      <td>1</td>\n",
              "    </tr>\n",
              "    <tr>\n",
              "      <th>7457</th>\n",
              "      <td>0.229605</td>\n",
              "      <td>0.649582</td>\n",
              "      <td>-0.905303</td>\n",
              "      <td>-0.389795</td>\n",
              "      <td>0.005418</td>\n",
              "      <td>0.288348</td>\n",
              "      <td>0</td>\n",
              "      <td>0</td>\n",
              "      <td>0</td>\n",
              "      <td>0</td>\n",
              "      <td>0</td>\n",
              "      <td>0</td>\n",
              "      <td>0</td>\n",
              "      <td>0</td>\n",
              "      <td>0</td>\n",
              "      <td>1</td>\n",
              "    </tr>\n",
              "    <tr>\n",
              "      <th>1087</th>\n",
              "      <td>-0.124858</td>\n",
              "      <td>-0.783186</td>\n",
              "      <td>-0.905303</td>\n",
              "      <td>0.922240</td>\n",
              "      <td>1.160537</td>\n",
              "      <td>-0.290202</td>\n",
              "      <td>0</td>\n",
              "      <td>0</td>\n",
              "      <td>0</td>\n",
              "      <td>0</td>\n",
              "      <td>0</td>\n",
              "      <td>0</td>\n",
              "      <td>0</td>\n",
              "      <td>1</td>\n",
              "      <td>0</td>\n",
              "      <td>1</td>\n",
              "    </tr>\n",
              "    <tr>\n",
              "      <th>6820</th>\n",
              "      <td>0.316137</td>\n",
              "      <td>-0.783186</td>\n",
              "      <td>1.104603</td>\n",
              "      <td>-0.171123</td>\n",
              "      <td>0.390458</td>\n",
              "      <td>0.288348</td>\n",
              "      <td>0</td>\n",
              "      <td>1</td>\n",
              "      <td>0</td>\n",
              "      <td>0</td>\n",
              "      <td>0</td>\n",
              "      <td>0</td>\n",
              "      <td>0</td>\n",
              "      <td>1</td>\n",
              "      <td>0</td>\n",
              "      <td>1</td>\n",
              "    </tr>\n",
              "  </tbody>\n",
              "</table>\n",
              "</div>"
            ],
            "text/plain": [
              "       Mileage  Cylinder_Number  Wheel_Drive_Number  MPG_City  MPG_Highway  \\\n",
              "713  -0.017836        -0.783186           -0.905303  0.922240     1.160537   \n",
              "6255 -0.359219        -0.783186            1.104603 -0.171123    -0.572141   \n",
              "7457  0.229605         0.649582           -0.905303 -0.389795     0.005418   \n",
              "1087 -0.124858        -0.783186           -0.905303  0.922240     1.160537   \n",
              "6820  0.316137        -0.783186            1.104603 -0.171123     0.390458   \n",
              "\n",
              "       Car_Age  Brand_Audi  Brand_BMW  Brand_Land Rover  Brand_Lexus  \\\n",
              "713   0.866897           0          0                 0            0   \n",
              "6255 -0.290202           0          0                 0            0   \n",
              "7457  0.288348           0          0                 0            0   \n",
              "1087 -0.290202           0          0                 0            0   \n",
              "6820  0.288348           0          1                 0            0   \n",
              "\n",
              "      Brand_Mercedes-Benz  Brand_Porsche  Brand_Tesla  Body_SUV  Body_TRUCKS  \\\n",
              "713                     0              0            0         0            0   \n",
              "6255                    0              0            0         1            0   \n",
              "7457                    0              0            0         0            0   \n",
              "1087                    0              0            0         1            0   \n",
              "6820                    0              0            0         1            0   \n",
              "\n",
              "      Fuel_Type_Gasoline  \n",
              "713                    1  \n",
              "6255                   1  \n",
              "7457                   1  \n",
              "1087                   1  \n",
              "6820                   1  "
            ]
          },
          "execution_count": 29,
          "metadata": {},
          "output_type": "execute_result"
        }
      ],
      "source": [
        "X_train.head()"
      ]
    },
    {
      "cell_type": "markdown",
      "metadata": {},
      "source": [
        "### Remove correlation from training dataset"
      ]
    },
    {
      "cell_type": "code",
      "execution_count": 30,
      "metadata": {},
      "outputs": [
        {
          "name": "stdout",
          "output_type": "stream",
          "text": [
            "Correlated pairs ... \n",
            "\n",
            "MPG_Highway         MPG_City              0.901645\n",
            "Car_Age             Mileage               0.788841\n",
            "MPG_City            Cylinder_Number       0.717722\n",
            "MPG_Highway         Cylinder_Number       0.684890\n",
            "Body_TRUCKS         Cylinder_Number       0.446117\n",
            "                    MPG_Highway           0.407129\n",
            "MPG_Highway         Wheel_Drive_Number    0.381925\n",
            "Body_TRUCKS         Body_SUV              0.354672\n",
            "Fuel_Type_Gasoline  Brand_Tesla           0.342503\n",
            "Body_TRUCKS         MPG_City              0.332527\n",
            "dtype: float64\n",
            "\n",
            "Feature dropped: \n",
            "['MPG_Highway']\n"
          ]
        }
      ],
      "source": [
        "# Remove correlation from the trainig dataset\n",
        "Remove_Correlation(X_train)"
      ]
    },
    {
      "cell_type": "code",
      "execution_count": 31,
      "metadata": {},
      "outputs": [
        {
          "data": {
            "text/plain": [
              "(9984, 15)"
            ]
          },
          "execution_count": 31,
          "metadata": {},
          "output_type": "execute_result"
        }
      ],
      "source": [
        "X_train.shape"
      ]
    },
    {
      "cell_type": "markdown",
      "metadata": {},
      "source": [
        "### Remove multicollinearity from trainig dataset"
      ]
    },
    {
      "cell_type": "code",
      "execution_count": 32,
      "metadata": {},
      "outputs": [
        {
          "name": "stdout",
          "output_type": "stream",
          "text": [
            "['Mileage', 'Cylinder_Number', 'Wheel_Drive_Number', 'MPG_City', 'Car_Age']\n"
          ]
        }
      ],
      "source": [
        "# numerical feature list\n",
        "numerical_feature_list_X_train = list(X_train.select_dtypes(include=['int64', 'float64']).columns)\n",
        "print(numerical_feature_list_X_train)"
      ]
    },
    {
      "cell_type": "code",
      "execution_count": 33,
      "metadata": {},
      "outputs": [
        {
          "name": "stdout",
          "output_type": "stream",
          "text": [
            "Good. VIF is less than 10.\n",
            "\n",
            "Feature dropped: \n",
            "[]\n"
          ]
        },
        {
          "data": {
            "text/html": [
              "<div>\n",
              "<style scoped>\n",
              "    .dataframe tbody tr th:only-of-type {\n",
              "        vertical-align: middle;\n",
              "    }\n",
              "\n",
              "    .dataframe tbody tr th {\n",
              "        vertical-align: top;\n",
              "    }\n",
              "\n",
              "    .dataframe thead th {\n",
              "        text-align: right;\n",
              "    }\n",
              "</style>\n",
              "<table border=\"1\" class=\"dataframe\">\n",
              "  <thead>\n",
              "    <tr style=\"text-align: right;\">\n",
              "      <th></th>\n",
              "      <th>VIF</th>\n",
              "      <th>Features</th>\n",
              "    </tr>\n",
              "  </thead>\n",
              "  <tbody>\n",
              "    <tr>\n",
              "      <th>4</th>\n",
              "      <td>2.658282</td>\n",
              "      <td>Car_Age</td>\n",
              "    </tr>\n",
              "    <tr>\n",
              "      <th>0</th>\n",
              "      <td>2.651851</td>\n",
              "      <td>Mileage</td>\n",
              "    </tr>\n",
              "    <tr>\n",
              "      <th>3</th>\n",
              "      <td>2.234056</td>\n",
              "      <td>MPG_City</td>\n",
              "    </tr>\n",
              "    <tr>\n",
              "      <th>1</th>\n",
              "      <td>2.081606</td>\n",
              "      <td>Cylinder_Number</td>\n",
              "    </tr>\n",
              "    <tr>\n",
              "      <th>2</th>\n",
              "      <td>1.100626</td>\n",
              "      <td>Wheel_Drive_Number</td>\n",
              "    </tr>\n",
              "  </tbody>\n",
              "</table>\n",
              "</div>"
            ],
            "text/plain": [
              "        VIF            Features\n",
              "4  2.658282             Car_Age\n",
              "0  2.651851             Mileage\n",
              "3  2.234056            MPG_City\n",
              "1  2.081606     Cylinder_Number\n",
              "2  1.100626  Wheel_Drive_Number"
            ]
          },
          "execution_count": 33,
          "metadata": {},
          "output_type": "execute_result"
        }
      ],
      "source": [
        "# Remove multicollinearity from the trainig dataset\n",
        "Remove_Multicollinearity(X_train, numerical_feature_list_X_train)"
      ]
    },
    {
      "cell_type": "code",
      "execution_count": 111,
      "metadata": {},
      "outputs": [
        {
          "name": "stdout",
          "output_type": "stream",
          "text": [
            "Index(['Mileage', 'Cylinder_Number', 'Wheel_Drive_Number', 'MPG_City',\n",
            "       'Car_Age', 'Brand_Audi', 'Brand_BMW', 'Brand_Land Rover', 'Brand_Lexus',\n",
            "       'Brand_Mercedes-Benz', 'Brand_Porsche', 'Brand_Tesla', 'Body_SUV',\n",
            "       'Body_TRUCKS', 'Fuel_Type_Gasoline'],\n",
            "      dtype='object')\n"
          ]
        }
      ],
      "source": [
        "print(X_train.columns)"
      ]
    },
    {
      "cell_type": "code",
      "execution_count": 34,
      "metadata": {},
      "outputs": [
        {
          "data": {
            "text/plain": [
              "(9984, 15)"
            ]
          },
          "execution_count": 34,
          "metadata": {},
          "output_type": "execute_result"
        }
      ],
      "source": [
        "X_train.shape"
      ]
    },
    {
      "cell_type": "markdown",
      "metadata": {
        "colab_type": "text",
        "id": "1Y89ctGZ7Mcx"
      },
      "source": [
        "### Training the CatBoost model on the training dataset"
      ]
    },
    {
      "cell_type": "code",
      "execution_count": 35,
      "metadata": {
        "colab": {},
        "colab_type": "code",
        "id": "ude1J0E47SKN"
      },
      "outputs": [],
      "source": [
        "# CatBoost Model\n",
        "model_CBR = CatBoostRegressor(verbose=False)"
      ]
    },
    {
      "cell_type": "code",
      "execution_count": 36,
      "metadata": {},
      "outputs": [],
      "source": [
        "# Randomized Search CV param_distributions for CatBoost\n",
        "\n",
        "# iterations: int -> 100-1000 \n",
        "iterations = [int(x) for x in np.linspace(100, 1000, num = 5)]\n",
        "# learning_rate: float -> 0.01–0.3\n",
        "learning_rate = [round(x, 2) for x in np.linspace(0.01, 0.3, num = 5)]\n",
        "# depth: int -> 2–10 \n",
        "depth = [int(x) for x in np.linspace(2, 10, num = 5)]\n",
        "# l2_leaf_reg: int -> 2–30 \n",
        "l2_leaf_reg = [int(x) for x in np.linspace(2, 30, num = 5)]\n",
        "# border_count: int -> 10-100\n",
        "border_count = [int(x) for x in np.linspace(10, 100, num = 5)]\n"
      ]
    },
    {
      "cell_type": "code",
      "execution_count": 37,
      "metadata": {},
      "outputs": [
        {
          "name": "stdout",
          "output_type": "stream",
          "text": [
            "{'iterations': [100, 325, 550, 775, 1000], 'learning_rate': [0.01, 0.08, 0.16, 0.23, 0.3], 'depth': [2, 4, 6, 8, 10], 'l2_leaf_reg': [2, 9, 16, 23, 30], 'border_count': [10, 32, 55, 77, 100]}\n"
          ]
        }
      ],
      "source": [
        "# Create the random grid\n",
        "random_param_distributions = {\n",
        "                            'iterations': iterations,\n",
        "                            'learning_rate': learning_rate,\n",
        "                            'depth': depth,\n",
        "                            'l2_leaf_reg': l2_leaf_reg,\n",
        "                            'border_count': border_count\n",
        "                            }\n",
        "print(random_param_distributions)"
      ]
    },
    {
      "cell_type": "code",
      "execution_count": 38,
      "metadata": {},
      "outputs": [],
      "source": [
        "# RandomizedSearchCV\n",
        "randomized_search_cv = RandomizedSearchCV(\n",
        "                                        estimator = model_CBR,\n",
        "                                        param_distributions = random_param_distributions,\n",
        "                                        n_iter = 20,\n",
        "                                        cv = 10, \n",
        "                                        random_state = 0,\n",
        "                                        verbose = 1, \n",
        "                                        n_jobs = 1\n",
        "                                        )"
      ]
    },
    {
      "cell_type": "code",
      "execution_count": 39,
      "metadata": {},
      "outputs": [
        {
          "name": "stdout",
          "output_type": "stream",
          "text": [
            "Fitting 10 folds for each of 20 candidates, totalling 200 fits\n"
          ]
        },
        {
          "data": {
            "text/plain": [
              "RandomizedSearchCV(cv=10,\n",
              "                   estimator=<catboost.core.CatBoostRegressor object at 0x1211b0f40>,\n",
              "                   n_iter=20, n_jobs=1,\n",
              "                   param_distributions={'border_count': [10, 32, 55, 77, 100],\n",
              "                                        'depth': [2, 4, 6, 8, 10],\n",
              "                                        'iterations': [100, 325, 550, 775,\n",
              "                                                       1000],\n",
              "                                        'l2_leaf_reg': [2, 9, 16, 23, 30],\n",
              "                                        'learning_rate': [0.01, 0.08, 0.16,\n",
              "                                                          0.23, 0.3]},\n",
              "                   random_state=0, verbose=1)"
            ]
          },
          "execution_count": 39,
          "metadata": {},
          "output_type": "execute_result"
        }
      ],
      "source": [
        "# Run time: 5 min (Fitting 10 folds for each of 20 candidates, totalling 200 fits)\n",
        "# with depth = [int(x) for x in np.linspace(2, 10, num = 5)]\n",
        "randomized_search_cv.fit(X_train, y_train)"
      ]
    },
    {
      "cell_type": "code",
      "execution_count": 40,
      "metadata": {},
      "outputs": [
        {
          "data": {
            "text/plain": [
              "0.8142296209597149"
            ]
          },
          "execution_count": 40,
          "metadata": {},
          "output_type": "execute_result"
        }
      ],
      "source": [
        "model_best_score = randomized_search_cv.best_score_\n",
        "model_best_score"
      ]
    },
    {
      "cell_type": "code",
      "execution_count": 41,
      "metadata": {},
      "outputs": [
        {
          "data": {
            "text/plain": [
              "{'learning_rate': 0.08,\n",
              " 'l2_leaf_reg': 2,\n",
              " 'iterations': 775,\n",
              " 'depth': 8,\n",
              " 'border_count': 55}"
            ]
          },
          "execution_count": 41,
          "metadata": {},
          "output_type": "execute_result"
        }
      ],
      "source": [
        "randomized_search_cv.best_params_"
      ]
    },
    {
      "cell_type": "markdown",
      "metadata": {},
      "source": [
        "### Model performance metrics for training dataset"
      ]
    },
    {
      "cell_type": "code",
      "execution_count": 42,
      "metadata": {},
      "outputs": [],
      "source": [
        "y_hat = randomized_search_cv.predict(X_train)"
      ]
    },
    {
      "cell_type": "code",
      "execution_count": 43,
      "metadata": {},
      "outputs": [
        {
          "name": "stdout",
          "output_type": "stream",
          "text": [
            "R2: 0.8833322565250905\n"
          ]
        }
      ],
      "source": [
        "# R-Square is a good measure to determine how well the model fits the dependent variables. \n",
        "# However, it does not take into consideration of overfitting problem.\n",
        "# High R-Squre value means better fitting.\n",
        "r2 = randomized_search_cv.score(X_train, y_train)\n",
        "print('R2:', r2)"
      ]
    },
    {
      "cell_type": "code",
      "execution_count": 44,
      "metadata": {},
      "outputs": [
        {
          "name": "stdout",
          "output_type": "stream",
          "text": [
            "Adjusted R2: 0.8831566931069401\n"
          ]
        }
      ],
      "source": [
        "# If regression model has many independent variables, it may fit very well to the training dataset \n",
        "# but performs badly for testing dataset. Adjusted R Square penalizes additional independent variables \n",
        "# added to the model and adjust the metric to prevent overfitting issues.\n",
        "# High Adjusted R-Squre value means better fitting.\n",
        "r2 = randomized_search_cv.score(X_train, y_train)\n",
        "n = X_train.shape[0]\n",
        "p = X_train.shape[1]\n",
        "adjusted_r2 = 1-(1-r2)*(n-1)/(n-p-1)\n",
        "print('Adjusted R2:', adjusted_r2)"
      ]
    },
    {
      "cell_type": "code",
      "execution_count": 45,
      "metadata": {},
      "outputs": [
        {
          "data": {
            "text/plain": [
              "Text(0.5, 1.0, 'Residuals PDF On Test Dataset')"
            ]
          },
          "execution_count": 45,
          "metadata": {},
          "output_type": "execute_result"
        },
        {
          "data": {
            "image/png": "[encoded data removed]",
            "text/plain": [
              "<Figure size 432x288 with 1 Axes>"
            ]
          },
          "metadata": {},
          "output_type": "display_data"
        }
      ],
      "source": [
        "# useful check of our model is a residual plot\n",
        "# We can plot the PDF of the residuals and check for anomalies\n",
        "sns.histplot(y_train - y_hat)\n",
        "plt.title('Residuals PDF On Train Dataset', size=18)\n",
        "# In the best case scenario this plot should be normally distributed\n",
        "# long left tail means over predition\n",
        "# long right tail implies under prediction"
      ]
    },
    {
      "cell_type": "code",
      "execution_count": 46,
      "metadata": {},
      "outputs": [
        {
          "data": {
            "image/png": "[encoded data removed]",
            "text/plain": [
              "<Figure size 432x288 with 1 Axes>"
            ]
          },
          "metadata": {},
          "output_type": "display_data"
        }
      ],
      "source": [
        "# The simplest way to compare the targets (y_train) and the predictions (y_hat) is to plot them on a scatter plot\n",
        "# The closer the points to the 45-degree line, the better the prediction\n",
        "plt.scatter(y_train, y_hat, alpha=0.2)\n",
        "plt.xlabel('y_train')\n",
        "plt.ylabel('y_hat')\n",
        "plt.plot([0, 100000], [0, 100000], color = 'r', linewidth = 2)\n",
        "plt.show()"
      ]
    },
    {
      "cell_type": "code",
      "execution_count": 47,
      "metadata": {},
      "outputs": [],
      "source": [
        "# construct model performance evaluation dataframe\n",
        "performance_train_dataset = backup_X_train.copy()\n",
        "y_train_difference_percentage = abs(y_train - y_hat)*100/y_train\n",
        "performance_train_dataset['y_train'] = y_train\n",
        "performance_train_dataset['y_hat'] = y_hat\n",
        "performance_train_dataset['y_train_difference(%)'] = y_train_difference_percentage"
      ]
    },
    {
      "cell_type": "code",
      "execution_count": 48,
      "metadata": {},
      "outputs": [
        {
          "data": {
            "text/html": [
              "<div>\n",
              "<style scoped>\n",
              "    .dataframe tbody tr th:only-of-type {\n",
              "        vertical-align: middle;\n",
              "    }\n",
              "\n",
              "    .dataframe tbody tr th {\n",
              "        vertical-align: top;\n",
              "    }\n",
              "\n",
              "    .dataframe thead th {\n",
              "        text-align: right;\n",
              "    }\n",
              "</style>\n",
              "<table border=\"1\" class=\"dataframe\">\n",
              "  <thead>\n",
              "    <tr style=\"text-align: right;\">\n",
              "      <th></th>\n",
              "      <th>Brand</th>\n",
              "      <th>Model</th>\n",
              "      <th>Body</th>\n",
              "      <th>Certification</th>\n",
              "      <th>Exterior_Color</th>\n",
              "      <th>Interior_Color</th>\n",
              "      <th>Transmission_Type</th>\n",
              "      <th>Fuel_Type</th>\n",
              "      <th>City</th>\n",
              "      <th>Zip_Code</th>\n",
              "      <th>Mileage</th>\n",
              "      <th>Cylinder_Number</th>\n",
              "      <th>Wheel_Drive_Number</th>\n",
              "      <th>MPG_City</th>\n",
              "      <th>MPG_Highway</th>\n",
              "      <th>Car_Age</th>\n",
              "      <th>y_train</th>\n",
              "      <th>y_hat</th>\n",
              "      <th>y_train_difference(%)</th>\n",
              "    </tr>\n",
              "  </thead>\n",
              "  <tbody>\n",
              "    <tr>\n",
              "      <th>713</th>\n",
              "      <td>MAZDA</td>\n",
              "      <td>MAZDA6</td>\n",
              "      <td>SEDAN</td>\n",
              "      <td>Used</td>\n",
              "      <td>Blue</td>\n",
              "      <td>Parchment</td>\n",
              "      <td>Automatic</td>\n",
              "      <td>Gasoline</td>\n",
              "      <td>San Diego</td>\n",
              "      <td>92111</td>\n",
              "      <td>26272.0</td>\n",
              "      <td>4.0</td>\n",
              "      <td>2.0</td>\n",
              "      <td>26.0</td>\n",
              "      <td>35.0</td>\n",
              "      <td>5</td>\n",
              "      <td>23779.0</td>\n",
              "      <td>20391.272400</td>\n",
              "      <td>14.246720</td>\n",
              "    </tr>\n",
              "    <tr>\n",
              "      <th>6255</th>\n",
              "      <td>Hyundai</td>\n",
              "      <td>Tucson</td>\n",
              "      <td>SUV</td>\n",
              "      <td>Used</td>\n",
              "      <td>Blue</td>\n",
              "      <td>Black</td>\n",
              "      <td>Automatic</td>\n",
              "      <td>Gasoline</td>\n",
              "      <td>Seattle</td>\n",
              "      <td>98036</td>\n",
              "      <td>20374.0</td>\n",
              "      <td>4.0</td>\n",
              "      <td>4.0</td>\n",
              "      <td>21.0</td>\n",
              "      <td>26.0</td>\n",
              "      <td>3</td>\n",
              "      <td>28090.0</td>\n",
              "      <td>33506.173533</td>\n",
              "      <td>19.281501</td>\n",
              "    </tr>\n",
              "    <tr>\n",
              "      <th>7457</th>\n",
              "      <td>INFINITI</td>\n",
              "      <td>Q50</td>\n",
              "      <td>SEDAN</td>\n",
              "      <td>Used</td>\n",
              "      <td>Brown</td>\n",
              "      <td>Wheat</td>\n",
              "      <td>Automatic</td>\n",
              "      <td>Gasoline</td>\n",
              "      <td>San Jose</td>\n",
              "      <td>95129</td>\n",
              "      <td>30547.0</td>\n",
              "      <td>6.0</td>\n",
              "      <td>2.0</td>\n",
              "      <td>20.0</td>\n",
              "      <td>29.0</td>\n",
              "      <td>4</td>\n",
              "      <td>28695.0</td>\n",
              "      <td>33352.510173</td>\n",
              "      <td>16.231086</td>\n",
              "    </tr>\n",
              "    <tr>\n",
              "      <th>1087</th>\n",
              "      <td>Toyota</td>\n",
              "      <td>RAV4</td>\n",
              "      <td>SUV</td>\n",
              "      <td>Used</td>\n",
              "      <td>Silver</td>\n",
              "      <td>Black</td>\n",
              "      <td>Automatic</td>\n",
              "      <td>Gasoline</td>\n",
              "      <td>San Diego</td>\n",
              "      <td>92108</td>\n",
              "      <td>24423.0</td>\n",
              "      <td>4.0</td>\n",
              "      <td>2.0</td>\n",
              "      <td>26.0</td>\n",
              "      <td>35.0</td>\n",
              "      <td>3</td>\n",
              "      <td>29826.0</td>\n",
              "      <td>28290.472767</td>\n",
              "      <td>5.148284</td>\n",
              "    </tr>\n",
              "    <tr>\n",
              "      <th>6820</th>\n",
              "      <td>BMW</td>\n",
              "      <td>X2</td>\n",
              "      <td>SUV</td>\n",
              "      <td>Used</td>\n",
              "      <td>White</td>\n",
              "      <td>Black</td>\n",
              "      <td>Automatic</td>\n",
              "      <td>Gasoline</td>\n",
              "      <td>San Jose</td>\n",
              "      <td>95051</td>\n",
              "      <td>32042.0</td>\n",
              "      <td>4.0</td>\n",
              "      <td>4.0</td>\n",
              "      <td>21.0</td>\n",
              "      <td>31.0</td>\n",
              "      <td>4</td>\n",
              "      <td>30499.0</td>\n",
              "      <td>31233.883947</td>\n",
              "      <td>2.409535</td>\n",
              "    </tr>\n",
              "  </tbody>\n",
              "</table>\n",
              "</div>"
            ],
            "text/plain": [
              "         Brand   Model   Body Certification Exterior_Color Interior_Color  \\\n",
              "713      MAZDA  MAZDA6  SEDAN          Used           Blue      Parchment   \n",
              "6255   Hyundai  Tucson    SUV          Used           Blue          Black   \n",
              "7457  INFINITI     Q50  SEDAN          Used          Brown          Wheat   \n",
              "1087    Toyota    RAV4    SUV          Used         Silver          Black   \n",
              "6820       BMW      X2    SUV          Used          White          Black   \n",
              "\n",
              "     Transmission_Type Fuel_Type       City Zip_Code  Mileage  \\\n",
              "713          Automatic  Gasoline  San Diego    92111  26272.0   \n",
              "6255         Automatic  Gasoline    Seattle    98036  20374.0   \n",
              "7457         Automatic  Gasoline   San Jose    95129  30547.0   \n",
              "1087         Automatic  Gasoline  San Diego    92108  24423.0   \n",
              "6820         Automatic  Gasoline   San Jose    95051  32042.0   \n",
              "\n",
              "      Cylinder_Number  Wheel_Drive_Number  MPG_City  MPG_Highway  Car_Age  \\\n",
              "713               4.0                 2.0      26.0         35.0        5   \n",
              "6255              4.0                 4.0      21.0         26.0        3   \n",
              "7457              6.0                 2.0      20.0         29.0        4   \n",
              "1087              4.0                 2.0      26.0         35.0        3   \n",
              "6820              4.0                 4.0      21.0         31.0        4   \n",
              "\n",
              "      y_train         y_hat  y_train_difference(%)  \n",
              "713   23779.0  20391.272400              14.246720  \n",
              "6255  28090.0  33506.173533              19.281501  \n",
              "7457  28695.0  33352.510173              16.231086  \n",
              "1087  29826.0  28290.472767               5.148284  \n",
              "6820  30499.0  31233.883947               2.409535  "
            ]
          },
          "execution_count": 48,
          "metadata": {},
          "output_type": "execute_result"
        }
      ],
      "source": [
        "performance_train_dataset.head()"
      ]
    },
    {
      "cell_type": "code",
      "execution_count": 49,
      "metadata": {},
      "outputs": [
        {
          "data": {
            "text/html": [
              "<div>\n",
              "<style scoped>\n",
              "    .dataframe tbody tr th:only-of-type {\n",
              "        vertical-align: middle;\n",
              "    }\n",
              "\n",
              "    .dataframe tbody tr th {\n",
              "        vertical-align: top;\n",
              "    }\n",
              "\n",
              "    .dataframe thead th {\n",
              "        text-align: right;\n",
              "    }\n",
              "</style>\n",
              "<table border=\"1\" class=\"dataframe\">\n",
              "  <thead>\n",
              "    <tr style=\"text-align: right;\">\n",
              "      <th></th>\n",
              "      <th>Brand</th>\n",
              "      <th>Model</th>\n",
              "      <th>Body</th>\n",
              "      <th>Certification</th>\n",
              "      <th>Exterior_Color</th>\n",
              "      <th>Interior_Color</th>\n",
              "      <th>Transmission_Type</th>\n",
              "      <th>Fuel_Type</th>\n",
              "      <th>City</th>\n",
              "      <th>Zip_Code</th>\n",
              "      <th>Mileage</th>\n",
              "      <th>Cylinder_Number</th>\n",
              "      <th>Wheel_Drive_Number</th>\n",
              "      <th>MPG_City</th>\n",
              "      <th>MPG_Highway</th>\n",
              "      <th>Car_Age</th>\n",
              "      <th>y_train</th>\n",
              "      <th>y_hat</th>\n",
              "      <th>y_train_difference(%)</th>\n",
              "    </tr>\n",
              "  </thead>\n",
              "  <tbody>\n",
              "    <tr>\n",
              "      <th>1391</th>\n",
              "      <td>Ford</td>\n",
              "      <td>Fiesta</td>\n",
              "      <td>SEDAN</td>\n",
              "      <td>Used</td>\n",
              "      <td>Black</td>\n",
              "      <td>Charcoal Black</td>\n",
              "      <td>NaN</td>\n",
              "      <td>Gasoline</td>\n",
              "      <td>Chicago</td>\n",
              "      <td>60546</td>\n",
              "      <td>12813.0</td>\n",
              "      <td>4.0</td>\n",
              "      <td>2.0</td>\n",
              "      <td>NaN</td>\n",
              "      <td>NaN</td>\n",
              "      <td>3</td>\n",
              "      <td>15477.0</td>\n",
              "      <td>28992.137142</td>\n",
              "      <td>87.324011</td>\n",
              "    </tr>\n",
              "    <tr>\n",
              "      <th>4305</th>\n",
              "      <td>FIAT</td>\n",
              "      <td>500</td>\n",
              "      <td>HATCH</td>\n",
              "      <td>Used</td>\n",
              "      <td>Gray</td>\n",
              "      <td>Black</td>\n",
              "      <td>Single-Speed</td>\n",
              "      <td>Electric</td>\n",
              "      <td>Los Angeles</td>\n",
              "      <td>90706</td>\n",
              "      <td>14204.0</td>\n",
              "      <td>NaN</td>\n",
              "      <td>2.0</td>\n",
              "      <td>NaN</td>\n",
              "      <td>NaN</td>\n",
              "      <td>4</td>\n",
              "      <td>13288.0</td>\n",
              "      <td>24435.256868</td>\n",
              "      <td>83.889651</td>\n",
              "    </tr>\n",
              "    <tr>\n",
              "      <th>10446</th>\n",
              "      <td>FIAT</td>\n",
              "      <td>500</td>\n",
              "      <td>HATCH</td>\n",
              "      <td>Used</td>\n",
              "      <td>Gray</td>\n",
              "      <td>Black</td>\n",
              "      <td>Single-Speed</td>\n",
              "      <td>Electric</td>\n",
              "      <td>Phoenix</td>\n",
              "      <td>85015</td>\n",
              "      <td>23661.0</td>\n",
              "      <td>NaN</td>\n",
              "      <td>2.0</td>\n",
              "      <td>NaN</td>\n",
              "      <td>NaN</td>\n",
              "      <td>4</td>\n",
              "      <td>12573.0</td>\n",
              "      <td>23063.921152</td>\n",
              "      <td>83.440079</td>\n",
              "    </tr>\n",
              "    <tr>\n",
              "      <th>7865</th>\n",
              "      <td>Nissan</td>\n",
              "      <td>Frontier</td>\n",
              "      <td>TRUCKS</td>\n",
              "      <td>Certified</td>\n",
              "      <td>Black</td>\n",
              "      <td>Steel</td>\n",
              "      <td>Automatic</td>\n",
              "      <td>Gasoline</td>\n",
              "      <td>New York</td>\n",
              "      <td>11372</td>\n",
              "      <td>23924.0</td>\n",
              "      <td>6.0</td>\n",
              "      <td>4.0</td>\n",
              "      <td>15.0</td>\n",
              "      <td>21.0</td>\n",
              "      <td>4</td>\n",
              "      <td>27998.0</td>\n",
              "      <td>49094.815314</td>\n",
              "      <td>75.351151</td>\n",
              "    </tr>\n",
              "    <tr>\n",
              "      <th>10998</th>\n",
              "      <td>Dodge</td>\n",
              "      <td>Journey</td>\n",
              "      <td>SUV</td>\n",
              "      <td>Used</td>\n",
              "      <td>White</td>\n",
              "      <td>Tan</td>\n",
              "      <td>Automatic</td>\n",
              "      <td>Gasoline</td>\n",
              "      <td>Indianapolis</td>\n",
              "      <td>46219</td>\n",
              "      <td>54276.0</td>\n",
              "      <td>6.0</td>\n",
              "      <td>4.0</td>\n",
              "      <td>16.0</td>\n",
              "      <td>24.0</td>\n",
              "      <td>4</td>\n",
              "      <td>21797.0</td>\n",
              "      <td>37292.237900</td>\n",
              "      <td>71.088856</td>\n",
              "    </tr>\n",
              "  </tbody>\n",
              "</table>\n",
              "</div>"
            ],
            "text/plain": [
              "        Brand     Model    Body Certification Exterior_Color  Interior_Color  \\\n",
              "1391     Ford    Fiesta   SEDAN          Used          Black  Charcoal Black   \n",
              "4305     FIAT       500   HATCH          Used           Gray           Black   \n",
              "10446    FIAT       500   HATCH          Used           Gray           Black   \n",
              "7865   Nissan  Frontier  TRUCKS     Certified          Black           Steel   \n",
              "10998   Dodge   Journey     SUV          Used          White             Tan   \n",
              "\n",
              "      Transmission_Type Fuel_Type          City Zip_Code  Mileage  \\\n",
              "1391                NaN  Gasoline       Chicago    60546  12813.0   \n",
              "4305       Single-Speed  Electric   Los Angeles    90706  14204.0   \n",
              "10446      Single-Speed  Electric       Phoenix    85015  23661.0   \n",
              "7865          Automatic  Gasoline      New York    11372  23924.0   \n",
              "10998         Automatic  Gasoline  Indianapolis    46219  54276.0   \n",
              "\n",
              "       Cylinder_Number  Wheel_Drive_Number  MPG_City  MPG_Highway  Car_Age  \\\n",
              "1391               4.0                 2.0       NaN          NaN        3   \n",
              "4305               NaN                 2.0       NaN          NaN        4   \n",
              "10446              NaN                 2.0       NaN          NaN        4   \n",
              "7865               6.0                 4.0      15.0         21.0        4   \n",
              "10998              6.0                 4.0      16.0         24.0        4   \n",
              "\n",
              "       y_train         y_hat  y_train_difference(%)  \n",
              "1391   15477.0  28992.137142              87.324011  \n",
              "4305   13288.0  24435.256868              83.889651  \n",
              "10446  12573.0  23063.921152              83.440079  \n",
              "7865   27998.0  49094.815314              75.351151  \n",
              "10998  21797.0  37292.237900              71.088856  "
            ]
          },
          "execution_count": 49,
          "metadata": {},
          "output_type": "execute_result"
        }
      ],
      "source": [
        "# check data for which model fitting is poor\n",
        "performance_train_dataset.sort_values(by=['y_train_difference(%)'], ascending=False).head()"
      ]
    },
    {
      "cell_type": "code",
      "execution_count": 50,
      "metadata": {},
      "outputs": [
        {
          "name": "stdout",
          "output_type": "stream",
          "text": [
            "Normalized RMSE of trained dataset: 0.12\n"
          ]
        }
      ],
      "source": [
        "rmse_train = np.sqrt(metrics.mean_squared_error(y_train, y_hat))\n",
        "nrmse_train = rmse_train/y_train.mean()\n",
        "print('Normalized RMSE of trained dataset: {:.2f}'.format(nrmse_train))"
      ]
    },
    {
      "cell_type": "markdown",
      "metadata": {},
      "source": [
        "### Model performance metrics for test dataset"
      ]
    },
    {
      "cell_type": "code",
      "execution_count": 51,
      "metadata": {},
      "outputs": [],
      "source": [
        "# Before Testing\n",
        "# X_test and X_train should be of same data format\n",
        "# dealing with missing categorical features in X_test\n",
        "# dealing with missing numerical features in X_test using transform method\n",
        "# get dummies for categorical features of X_test\n",
        "# feature scale the numerical features of X_test using the transform method\n",
        "# keep only thore columns in X_test as that of X_train"
      ]
    },
    {
      "cell_type": "code",
      "execution_count": 97,
      "metadata": {},
      "outputs": [],
      "source": [
        "# X_test = backup_X_test.copy()"
      ]
    },
    {
      "cell_type": "code",
      "execution_count": null,
      "metadata": {},
      "outputs": [],
      "source": [
        "X_test.head()"
      ]
    },
    {
      "cell_type": "code",
      "execution_count": 98,
      "metadata": {},
      "outputs": [
        {
          "data": {
            "text/html": [
              "<div>\n",
              "<style scoped>\n",
              "    .dataframe tbody tr th:only-of-type {\n",
              "        vertical-align: middle;\n",
              "    }\n",
              "\n",
              "    .dataframe tbody tr th {\n",
              "        vertical-align: top;\n",
              "    }\n",
              "\n",
              "    .dataframe thead th {\n",
              "        text-align: right;\n",
              "    }\n",
              "</style>\n",
              "<table border=\"1\" class=\"dataframe\">\n",
              "  <thead>\n",
              "    <tr style=\"text-align: right;\">\n",
              "      <th></th>\n",
              "      <th>Missing_Data</th>\n",
              "      <th>Missing_Data (%)</th>\n",
              "      <th>Data_Type</th>\n",
              "    </tr>\n",
              "  </thead>\n",
              "  <tbody>\n",
              "    <tr>\n",
              "      <th>Brand</th>\n",
              "      <td>0</td>\n",
              "      <td>0.00</td>\n",
              "      <td>object</td>\n",
              "    </tr>\n",
              "    <tr>\n",
              "      <th>Model</th>\n",
              "      <td>0</td>\n",
              "      <td>0.00</td>\n",
              "      <td>object</td>\n",
              "    </tr>\n",
              "    <tr>\n",
              "      <th>Body</th>\n",
              "      <td>0</td>\n",
              "      <td>0.00</td>\n",
              "      <td>object</td>\n",
              "    </tr>\n",
              "    <tr>\n",
              "      <th>Certification</th>\n",
              "      <td>0</td>\n",
              "      <td>0.00</td>\n",
              "      <td>object</td>\n",
              "    </tr>\n",
              "    <tr>\n",
              "      <th>Exterior_Color</th>\n",
              "      <td>59</td>\n",
              "      <td>2.36</td>\n",
              "      <td>object</td>\n",
              "    </tr>\n",
              "    <tr>\n",
              "      <th>Interior_Color</th>\n",
              "      <td>95</td>\n",
              "      <td>3.80</td>\n",
              "      <td>object</td>\n",
              "    </tr>\n",
              "    <tr>\n",
              "      <th>Transmission_Type</th>\n",
              "      <td>7</td>\n",
              "      <td>0.28</td>\n",
              "      <td>object</td>\n",
              "    </tr>\n",
              "    <tr>\n",
              "      <th>Fuel_Type</th>\n",
              "      <td>0</td>\n",
              "      <td>0.00</td>\n",
              "      <td>object</td>\n",
              "    </tr>\n",
              "    <tr>\n",
              "      <th>City</th>\n",
              "      <td>0</td>\n",
              "      <td>0.00</td>\n",
              "      <td>object</td>\n",
              "    </tr>\n",
              "    <tr>\n",
              "      <th>Zip_Code</th>\n",
              "      <td>0</td>\n",
              "      <td>0.00</td>\n",
              "      <td>object</td>\n",
              "    </tr>\n",
              "    <tr>\n",
              "      <th>Mileage</th>\n",
              "      <td>2</td>\n",
              "      <td>0.08</td>\n",
              "      <td>float64</td>\n",
              "    </tr>\n",
              "    <tr>\n",
              "      <th>Cylinder_Number</th>\n",
              "      <td>101</td>\n",
              "      <td>4.04</td>\n",
              "      <td>float64</td>\n",
              "    </tr>\n",
              "    <tr>\n",
              "      <th>Wheel_Drive_Number</th>\n",
              "      <td>0</td>\n",
              "      <td>0.00</td>\n",
              "      <td>float64</td>\n",
              "    </tr>\n",
              "    <tr>\n",
              "      <th>MPG_City</th>\n",
              "      <td>131</td>\n",
              "      <td>5.25</td>\n",
              "      <td>float64</td>\n",
              "    </tr>\n",
              "    <tr>\n",
              "      <th>MPG_Highway</th>\n",
              "      <td>131</td>\n",
              "      <td>5.25</td>\n",
              "      <td>float64</td>\n",
              "    </tr>\n",
              "    <tr>\n",
              "      <th>Car_Age</th>\n",
              "      <td>0</td>\n",
              "      <td>0.00</td>\n",
              "      <td>int64</td>\n",
              "    </tr>\n",
              "  </tbody>\n",
              "</table>\n",
              "</div>"
            ],
            "text/plain": [
              "                    Missing_Data  Missing_Data (%) Data_Type\n",
              "Brand                          0              0.00    object\n",
              "Model                          0              0.00    object\n",
              "Body                           0              0.00    object\n",
              "Certification                  0              0.00    object\n",
              "Exterior_Color                59              2.36    object\n",
              "Interior_Color                95              3.80    object\n",
              "Transmission_Type              7              0.28    object\n",
              "Fuel_Type                      0              0.00    object\n",
              "City                           0              0.00    object\n",
              "Zip_Code                       0              0.00    object\n",
              "Mileage                        2              0.08   float64\n",
              "Cylinder_Number              101              4.04   float64\n",
              "Wheel_Drive_Number             0              0.00   float64\n",
              "MPG_City                     131              5.25   float64\n",
              "MPG_Highway                  131              5.25   float64\n",
              "Car_Age                        0              0.00     int64"
            ]
          },
          "execution_count": 98,
          "metadata": {},
          "output_type": "execute_result"
        }
      ],
      "source": [
        "Check_Missing_Values(X_test)"
      ]
    },
    {
      "cell_type": "code",
      "execution_count": 100,
      "metadata": {},
      "outputs": [],
      "source": [
        "# replace missing categorical variables with the object Missing_Value_XYZ\n",
        "X_test['Exterior_Color'] = X_test['Exterior_Color'].fillna('Missing_Value_EC')\n",
        "X_test['Interior_Color'] = X_test['Interior_Color'].fillna('Missing_Value_IC')\n",
        "X_test['Transmission_Type'] = X_test['Transmission_Type'].fillna('Missing_Value_TT')"
      ]
    },
    {
      "cell_type": "code",
      "execution_count": 101,
      "metadata": {},
      "outputs": [],
      "source": [
        "# now impute the X_test with the same model that was used to impute the X_train\n",
        "X_test[['Cylinder_Number', 'Wheel_Drive_Number']] = imputer_frequent.transform(X_test[['Cylinder_Number', 'Wheel_Drive_Number']])\n",
        "X_test[['MPG_City', 'MPG_Highway']] = imputer_median.transform(X_test[['MPG_City', 'MPG_Highway']])\n",
        "X_test[['Mileage']] = imputer_mean.transform(X_test[['Mileage']])"
      ]
    },
    {
      "cell_type": "code",
      "execution_count": 102,
      "metadata": {},
      "outputs": [],
      "source": [
        "# get dummies for the categorical variables\n",
        "X_test = pd.get_dummies(X_test, drop_first=True)"
      ]
    },
    {
      "cell_type": "code",
      "execution_count": 103,
      "metadata": {},
      "outputs": [
        {
          "name": "stdout",
          "output_type": "stream",
          "text": [
            "['Mileage', 'Cylinder_Number', 'Wheel_Drive_Number', 'MPG_City', 'MPG_Highway', 'Car_Age']\n"
          ]
        }
      ],
      "source": [
        "# Feature scaling of numerical features\n",
        "numerical_feature_list_X_test = list(X_test.select_dtypes(include=['int64', 'float64']).columns)\n",
        "print(numerical_feature_list_X_test)\n",
        "X_test[numerical_feature_list_X_test] = standard_scaler.transform(X_test[numerical_feature_list_X_test]) # only transform"
      ]
    },
    {
      "cell_type": "code",
      "execution_count": 104,
      "metadata": {},
      "outputs": [
        {
          "name": "stdout",
          "output_type": "stream",
          "text": [
            "(9984, 15)\n",
            "(2497, 1112)\n"
          ]
        }
      ],
      "source": [
        "print(X_train.shape)\n",
        "print(X_test.shape)"
      ]
    },
    {
      "cell_type": "code",
      "execution_count": 105,
      "metadata": {},
      "outputs": [],
      "source": [
        "# only keep the columns same as X_train in X_test\n",
        "X_train_feature_list = X_train.columns.values.tolist()\n",
        "X_test = X_test[X_train_feature_list]"
      ]
    },
    {
      "cell_type": "code",
      "execution_count": 106,
      "metadata": {},
      "outputs": [
        {
          "name": "stdout",
          "output_type": "stream",
          "text": [
            "(9984, 15)\n",
            "(2497, 15)\n"
          ]
        }
      ],
      "source": [
        "print(X_train.shape)\n",
        "print(X_test.shape)"
      ]
    },
    {
      "cell_type": "code",
      "execution_count": 107,
      "metadata": {},
      "outputs": [
        {
          "data": {
            "text/html": [
              "<div>\n",
              "<style scoped>\n",
              "    .dataframe tbody tr th:only-of-type {\n",
              "        vertical-align: middle;\n",
              "    }\n",
              "\n",
              "    .dataframe tbody tr th {\n",
              "        vertical-align: top;\n",
              "    }\n",
              "\n",
              "    .dataframe thead th {\n",
              "        text-align: right;\n",
              "    }\n",
              "</style>\n",
              "<table border=\"1\" class=\"dataframe\">\n",
              "  <thead>\n",
              "    <tr style=\"text-align: right;\">\n",
              "      <th></th>\n",
              "      <th>Mileage</th>\n",
              "      <th>Cylinder_Number</th>\n",
              "      <th>Wheel_Drive_Number</th>\n",
              "      <th>MPG_City</th>\n",
              "      <th>Car_Age</th>\n",
              "      <th>Brand_Audi</th>\n",
              "      <th>Brand_BMW</th>\n",
              "      <th>Brand_Land Rover</th>\n",
              "      <th>Brand_Lexus</th>\n",
              "      <th>Brand_Mercedes-Benz</th>\n",
              "      <th>Brand_Porsche</th>\n",
              "      <th>Brand_Tesla</th>\n",
              "      <th>Body_SUV</th>\n",
              "      <th>Body_TRUCKS</th>\n",
              "      <th>Fuel_Type_Gasoline</th>\n",
              "    </tr>\n",
              "  </thead>\n",
              "  <tbody>\n",
              "    <tr>\n",
              "      <th>5961</th>\n",
              "      <td>1.295484</td>\n",
              "      <td>-0.783186</td>\n",
              "      <td>-0.905303</td>\n",
              "      <td>-0.171123</td>\n",
              "      <td>3.181094</td>\n",
              "      <td>0</td>\n",
              "      <td>0</td>\n",
              "      <td>0</td>\n",
              "      <td>0</td>\n",
              "      <td>0</td>\n",
              "      <td>0</td>\n",
              "      <td>1</td>\n",
              "      <td>0</td>\n",
              "      <td>0</td>\n",
              "      <td>0</td>\n",
              "    </tr>\n",
              "    <tr>\n",
              "      <th>12268</th>\n",
              "      <td>0.060187</td>\n",
              "      <td>0.649582</td>\n",
              "      <td>-0.905303</td>\n",
              "      <td>-0.827141</td>\n",
              "      <td>-0.290202</td>\n",
              "      <td>0</td>\n",
              "      <td>0</td>\n",
              "      <td>0</td>\n",
              "      <td>0</td>\n",
              "      <td>0</td>\n",
              "      <td>0</td>\n",
              "      <td>0</td>\n",
              "      <td>1</td>\n",
              "      <td>0</td>\n",
              "      <td>1</td>\n",
              "    </tr>\n",
              "    <tr>\n",
              "      <th>9706</th>\n",
              "      <td>1.874583</td>\n",
              "      <td>-0.783186</td>\n",
              "      <td>-0.905303</td>\n",
              "      <td>0.484895</td>\n",
              "      <td>1.445446</td>\n",
              "      <td>0</td>\n",
              "      <td>0</td>\n",
              "      <td>0</td>\n",
              "      <td>0</td>\n",
              "      <td>0</td>\n",
              "      <td>0</td>\n",
              "      <td>0</td>\n",
              "      <td>0</td>\n",
              "      <td>0</td>\n",
              "      <td>1</td>\n",
              "    </tr>\n",
              "    <tr>\n",
              "      <th>4884</th>\n",
              "      <td>-1.078448</td>\n",
              "      <td>-0.783186</td>\n",
              "      <td>-0.905303</td>\n",
              "      <td>1.578258</td>\n",
              "      <td>-0.290202</td>\n",
              "      <td>0</td>\n",
              "      <td>0</td>\n",
              "      <td>0</td>\n",
              "      <td>0</td>\n",
              "      <td>0</td>\n",
              "      <td>0</td>\n",
              "      <td>0</td>\n",
              "      <td>0</td>\n",
              "      <td>0</td>\n",
              "      <td>1</td>\n",
              "    </tr>\n",
              "    <tr>\n",
              "      <th>2325</th>\n",
              "      <td>2.185520</td>\n",
              "      <td>2.082349</td>\n",
              "      <td>1.104603</td>\n",
              "      <td>-1.701831</td>\n",
              "      <td>2.023996</td>\n",
              "      <td>0</td>\n",
              "      <td>0</td>\n",
              "      <td>0</td>\n",
              "      <td>0</td>\n",
              "      <td>0</td>\n",
              "      <td>0</td>\n",
              "      <td>0</td>\n",
              "      <td>1</td>\n",
              "      <td>0</td>\n",
              "      <td>1</td>\n",
              "    </tr>\n",
              "  </tbody>\n",
              "</table>\n",
              "</div>"
            ],
            "text/plain": [
              "        Mileage  Cylinder_Number  Wheel_Drive_Number  MPG_City   Car_Age  \\\n",
              "5961   1.295484        -0.783186           -0.905303 -0.171123  3.181094   \n",
              "12268  0.060187         0.649582           -0.905303 -0.827141 -0.290202   \n",
              "9706   1.874583        -0.783186           -0.905303  0.484895  1.445446   \n",
              "4884  -1.078448        -0.783186           -0.905303  1.578258 -0.290202   \n",
              "2325   2.185520         2.082349            1.104603 -1.701831  2.023996   \n",
              "\n",
              "       Brand_Audi  Brand_BMW  Brand_Land Rover  Brand_Lexus  \\\n",
              "5961            0          0                 0            0   \n",
              "12268           0          0                 0            0   \n",
              "9706            0          0                 0            0   \n",
              "4884            0          0                 0            0   \n",
              "2325            0          0                 0            0   \n",
              "\n",
              "       Brand_Mercedes-Benz  Brand_Porsche  Brand_Tesla  Body_SUV  Body_TRUCKS  \\\n",
              "5961                     0              0            1         0            0   \n",
              "12268                    0              0            0         1            0   \n",
              "9706                     0              0            0         0            0   \n",
              "4884                     0              0            0         0            0   \n",
              "2325                     0              0            0         1            0   \n",
              "\n",
              "       Fuel_Type_Gasoline  \n",
              "5961                    0  \n",
              "12268                   1  \n",
              "9706                    1  \n",
              "4884                    1  \n",
              "2325                    1  "
            ]
          },
          "execution_count": 107,
          "metadata": {},
          "output_type": "execute_result"
        }
      ],
      "source": [
        "X_test.head()"
      ]
    },
    {
      "cell_type": "code",
      "execution_count": 90,
      "metadata": {},
      "outputs": [],
      "source": [
        "y_pred = randomized_search_cv.predict(X_test)"
      ]
    },
    {
      "cell_type": "code",
      "execution_count": 91,
      "metadata": {},
      "outputs": [
        {
          "data": {
            "text/plain": [
              "Text(0.5, 1.0, 'Residuals PDF On Test Dataset')"
            ]
          },
          "execution_count": 91,
          "metadata": {},
          "output_type": "execute_result"
        },
        {
          "data": {
            "image/png": "[encoded data removed]",
            "text/plain": [
              "<Figure size 432x288 with 1 Axes>"
            ]
          },
          "metadata": {},
          "output_type": "display_data"
        }
      ],
      "source": [
        "# useful check of our model is a residual plot\n",
        "# We can plot the PDF of the residuals and check for anomalies\n",
        "sns.histplot(y_test - y_pred)\n",
        "plt.title('Residuals PDF On Test Dataset', size=18)\n",
        "# In the best case scenario this plot should be normally distributed\n",
        "# long left tail means over predition\n",
        "# long right tail implies under prediction"
      ]
    },
    {
      "cell_type": "code",
      "execution_count": 92,
      "metadata": {},
      "outputs": [
        {
          "data": {
            "image/png": "[encoded data removed]",
            "text/plain": [
              "<Figure size 432x288 with 1 Axes>"
            ]
          },
          "metadata": {},
          "output_type": "display_data"
        }
      ],
      "source": [
        "# The simplest way to compare the targets (y_train) and the predictions (y_hat) is to plot them on a scatter plot\n",
        "# The closer the points to the 45-degree line, the better the prediction\n",
        "plt.scatter(y_test, y_pred, alpha=0.2)\n",
        "plt.xlabel('y_test')\n",
        "plt.ylabel('y_pred')\n",
        "plt.plot([0, 100000], [0, 100000], color = 'r', linewidth = 2)\n",
        "plt.show()"
      ]
    },
    {
      "cell_type": "code",
      "execution_count": 93,
      "metadata": {},
      "outputs": [],
      "source": [
        "# construct model performance evaluation dataframe\n",
        "performance_test_dataset = backup_X_test.copy()\n",
        "y_test_difference_percentage = abs(y_test - y_pred)*100/y_test\n",
        "performance_test_dataset['y_test'] = y_test\n",
        "performance_test_dataset['y_pred'] = y_pred\n",
        "performance_test_dataset['y_test_difference(%)'] = y_test_difference_percentage"
      ]
    },
    {
      "cell_type": "code",
      "execution_count": 94,
      "metadata": {},
      "outputs": [
        {
          "data": {
            "text/html": [
              "<div>\n",
              "<style scoped>\n",
              "    .dataframe tbody tr th:only-of-type {\n",
              "        vertical-align: middle;\n",
              "    }\n",
              "\n",
              "    .dataframe tbody tr th {\n",
              "        vertical-align: top;\n",
              "    }\n",
              "\n",
              "    .dataframe thead th {\n",
              "        text-align: right;\n",
              "    }\n",
              "</style>\n",
              "<table border=\"1\" class=\"dataframe\">\n",
              "  <thead>\n",
              "    <tr style=\"text-align: right;\">\n",
              "      <th></th>\n",
              "      <th>Brand</th>\n",
              "      <th>Model</th>\n",
              "      <th>Body</th>\n",
              "      <th>Certification</th>\n",
              "      <th>Exterior_Color</th>\n",
              "      <th>Interior_Color</th>\n",
              "      <th>Transmission_Type</th>\n",
              "      <th>Fuel_Type</th>\n",
              "      <th>City</th>\n",
              "      <th>Zip_Code</th>\n",
              "      <th>Mileage</th>\n",
              "      <th>Cylinder_Number</th>\n",
              "      <th>Wheel_Drive_Number</th>\n",
              "      <th>MPG_City</th>\n",
              "      <th>MPG_Highway</th>\n",
              "      <th>Car_Age</th>\n",
              "      <th>y_test</th>\n",
              "      <th>y_pred</th>\n",
              "      <th>y_test_difference(%)</th>\n",
              "    </tr>\n",
              "  </thead>\n",
              "  <tbody>\n",
              "    <tr>\n",
              "      <th>5961</th>\n",
              "      <td>Tesla</td>\n",
              "      <td>Model S</td>\n",
              "      <td>HATCH</td>\n",
              "      <td>Used</td>\n",
              "      <td>Green</td>\n",
              "      <td>Black</td>\n",
              "      <td>Single-Speed</td>\n",
              "      <td>Electric</td>\n",
              "      <td>Seattle</td>\n",
              "      <td>98004</td>\n",
              "      <td>48962.0</td>\n",
              "      <td>NaN</td>\n",
              "      <td>2.0</td>\n",
              "      <td>NaN</td>\n",
              "      <td>NaN</td>\n",
              "      <td>9</td>\n",
              "      <td>40492.0</td>\n",
              "      <td>35897.472832</td>\n",
              "      <td>11.346753</td>\n",
              "    </tr>\n",
              "    <tr>\n",
              "      <th>12268</th>\n",
              "      <td>Hyundai</td>\n",
              "      <td>Santa Fe</td>\n",
              "      <td>SUV</td>\n",
              "      <td>Used</td>\n",
              "      <td>Silver</td>\n",
              "      <td>Gray</td>\n",
              "      <td>Automatic</td>\n",
              "      <td>Gasoline</td>\n",
              "      <td>Fort Worth</td>\n",
              "      <td>76051</td>\n",
              "      <td>27620.0</td>\n",
              "      <td>6.0</td>\n",
              "      <td>2.0</td>\n",
              "      <td>18.0</td>\n",
              "      <td>25.0</td>\n",
              "      <td>3</td>\n",
              "      <td>29000.0</td>\n",
              "      <td>36109.843209</td>\n",
              "      <td>24.516701</td>\n",
              "    </tr>\n",
              "    <tr>\n",
              "      <th>9706</th>\n",
              "      <td>Acura</td>\n",
              "      <td>TLX</td>\n",
              "      <td>SEDAN</td>\n",
              "      <td>Used</td>\n",
              "      <td>Gray</td>\n",
              "      <td>Graystone</td>\n",
              "      <td>Automatic</td>\n",
              "      <td>Gasoline</td>\n",
              "      <td>Jacksonville</td>\n",
              "      <td>32225</td>\n",
              "      <td>58967.0</td>\n",
              "      <td>4.0</td>\n",
              "      <td>2.0</td>\n",
              "      <td>24.0</td>\n",
              "      <td>35.0</td>\n",
              "      <td>6</td>\n",
              "      <td>19947.0</td>\n",
              "      <td>18874.680566</td>\n",
              "      <td>5.375843</td>\n",
              "    </tr>\n",
              "    <tr>\n",
              "      <th>4884</th>\n",
              "      <td>Toyota</td>\n",
              "      <td>Camry</td>\n",
              "      <td>SEDAN</td>\n",
              "      <td>Certified</td>\n",
              "      <td>Silver</td>\n",
              "      <td>Black</td>\n",
              "      <td>Automatic</td>\n",
              "      <td>Gasoline</td>\n",
              "      <td>Los Angeles</td>\n",
              "      <td>90266</td>\n",
              "      <td>7948.0</td>\n",
              "      <td>4.0</td>\n",
              "      <td>2.0</td>\n",
              "      <td>29.0</td>\n",
              "      <td>41.0</td>\n",
              "      <td>3</td>\n",
              "      <td>27595.0</td>\n",
              "      <td>26558.299061</td>\n",
              "      <td>3.756843</td>\n",
              "    </tr>\n",
              "    <tr>\n",
              "      <th>2325</th>\n",
              "      <td>Cadillac</td>\n",
              "      <td>Escalade</td>\n",
              "      <td>SUV</td>\n",
              "      <td>Used</td>\n",
              "      <td>Silver</td>\n",
              "      <td>Shale W/Cocoa Accents</td>\n",
              "      <td>Automatic</td>\n",
              "      <td>Gasoline</td>\n",
              "      <td>Denver</td>\n",
              "      <td>80203</td>\n",
              "      <td>64339.0</td>\n",
              "      <td>8.0</td>\n",
              "      <td>4.0</td>\n",
              "      <td>14.0</td>\n",
              "      <td>21.0</td>\n",
              "      <td>7</td>\n",
              "      <td>47500.0</td>\n",
              "      <td>40556.799940</td>\n",
              "      <td>14.617263</td>\n",
              "    </tr>\n",
              "  </tbody>\n",
              "</table>\n",
              "</div>"
            ],
            "text/plain": [
              "          Brand     Model   Body Certification Exterior_Color  \\\n",
              "5961      Tesla   Model S  HATCH          Used          Green   \n",
              "12268   Hyundai  Santa Fe    SUV          Used         Silver   \n",
              "9706      Acura       TLX  SEDAN          Used           Gray   \n",
              "4884     Toyota     Camry  SEDAN     Certified         Silver   \n",
              "2325   Cadillac  Escalade    SUV          Used         Silver   \n",
              "\n",
              "              Interior_Color Transmission_Type Fuel_Type          City  \\\n",
              "5961                   Black      Single-Speed  Electric       Seattle   \n",
              "12268                   Gray         Automatic  Gasoline    Fort Worth   \n",
              "9706               Graystone         Automatic  Gasoline  Jacksonville   \n",
              "4884                   Black         Automatic  Gasoline   Los Angeles   \n",
              "2325   Shale W/Cocoa Accents         Automatic  Gasoline        Denver   \n",
              "\n",
              "      Zip_Code  Mileage  Cylinder_Number  Wheel_Drive_Number  MPG_City  \\\n",
              "5961     98004  48962.0              NaN                 2.0       NaN   \n",
              "12268    76051  27620.0              6.0                 2.0      18.0   \n",
              "9706     32225  58967.0              4.0                 2.0      24.0   \n",
              "4884     90266   7948.0              4.0                 2.0      29.0   \n",
              "2325     80203  64339.0              8.0                 4.0      14.0   \n",
              "\n",
              "       MPG_Highway  Car_Age   y_test        y_pred  y_test_difference(%)  \n",
              "5961           NaN        9  40492.0  35897.472832             11.346753  \n",
              "12268         25.0        3  29000.0  36109.843209             24.516701  \n",
              "9706          35.0        6  19947.0  18874.680566              5.375843  \n",
              "4884          41.0        3  27595.0  26558.299061              3.756843  \n",
              "2325          21.0        7  47500.0  40556.799940             14.617263  "
            ]
          },
          "execution_count": 94,
          "metadata": {},
          "output_type": "execute_result"
        }
      ],
      "source": [
        "performance_test_dataset.head()"
      ]
    },
    {
      "cell_type": "code",
      "execution_count": 109,
      "metadata": {},
      "outputs": [
        {
          "data": {
            "text/html": [
              "<div>\n",
              "<style scoped>\n",
              "    .dataframe tbody tr th:only-of-type {\n",
              "        vertical-align: middle;\n",
              "    }\n",
              "\n",
              "    .dataframe tbody tr th {\n",
              "        vertical-align: top;\n",
              "    }\n",
              "\n",
              "    .dataframe thead th {\n",
              "        text-align: right;\n",
              "    }\n",
              "</style>\n",
              "<table border=\"1\" class=\"dataframe\">\n",
              "  <thead>\n",
              "    <tr style=\"text-align: right;\">\n",
              "      <th></th>\n",
              "      <th>Brand</th>\n",
              "      <th>Model</th>\n",
              "      <th>Body</th>\n",
              "      <th>Certification</th>\n",
              "      <th>Exterior_Color</th>\n",
              "      <th>Interior_Color</th>\n",
              "      <th>Transmission_Type</th>\n",
              "      <th>Fuel_Type</th>\n",
              "      <th>City</th>\n",
              "      <th>Zip_Code</th>\n",
              "      <th>Mileage</th>\n",
              "      <th>Cylinder_Number</th>\n",
              "      <th>Wheel_Drive_Number</th>\n",
              "      <th>MPG_City</th>\n",
              "      <th>MPG_Highway</th>\n",
              "      <th>Car_Age</th>\n",
              "      <th>y_test</th>\n",
              "      <th>y_pred</th>\n",
              "      <th>y_test_difference(%)</th>\n",
              "    </tr>\n",
              "  </thead>\n",
              "  <tbody>\n",
              "    <tr>\n",
              "      <th>4981</th>\n",
              "      <td>FIAT</td>\n",
              "      <td>500</td>\n",
              "      <td>HATCH</td>\n",
              "      <td>Used</td>\n",
              "      <td>Gray</td>\n",
              "      <td>Black</td>\n",
              "      <td>Single-Speed</td>\n",
              "      <td>Electric</td>\n",
              "      <td>Los Angeles</td>\n",
              "      <td>90640</td>\n",
              "      <td>21667.0</td>\n",
              "      <td>NaN</td>\n",
              "      <td>2.0</td>\n",
              "      <td>NaN</td>\n",
              "      <td>NaN</td>\n",
              "      <td>4</td>\n",
              "      <td>13199.0</td>\n",
              "      <td>24631.634770</td>\n",
              "      <td>86.617431</td>\n",
              "    </tr>\n",
              "    <tr>\n",
              "      <th>10510</th>\n",
              "      <td>Lexus</td>\n",
              "      <td>ES 350</td>\n",
              "      <td>SEDAN</td>\n",
              "      <td>Used</td>\n",
              "      <td>NaN</td>\n",
              "      <td>Other</td>\n",
              "      <td>Automatic</td>\n",
              "      <td>Gasoline</td>\n",
              "      <td>Phoenix</td>\n",
              "      <td>85226</td>\n",
              "      <td>31210.0</td>\n",
              "      <td>6.0</td>\n",
              "      <td>2.0</td>\n",
              "      <td>21.0</td>\n",
              "      <td>30.0</td>\n",
              "      <td>4</td>\n",
              "      <td>19685.0</td>\n",
              "      <td>36693.198628</td>\n",
              "      <td>86.401822</td>\n",
              "    </tr>\n",
              "    <tr>\n",
              "      <th>4685</th>\n",
              "      <td>FIAT</td>\n",
              "      <td>500</td>\n",
              "      <td>HATCH</td>\n",
              "      <td>Used</td>\n",
              "      <td>Silver</td>\n",
              "      <td>Black</td>\n",
              "      <td>Single-Speed</td>\n",
              "      <td>Electric</td>\n",
              "      <td>Los Angeles</td>\n",
              "      <td>90250</td>\n",
              "      <td>17749.0</td>\n",
              "      <td>NaN</td>\n",
              "      <td>2.0</td>\n",
              "      <td>NaN</td>\n",
              "      <td>NaN</td>\n",
              "      <td>4</td>\n",
              "      <td>13800.0</td>\n",
              "      <td>25389.442100</td>\n",
              "      <td>83.981464</td>\n",
              "    </tr>\n",
              "    <tr>\n",
              "      <th>10607</th>\n",
              "      <td>Nissan</td>\n",
              "      <td>Frontier</td>\n",
              "      <td>TRUCKS</td>\n",
              "      <td>Used</td>\n",
              "      <td>Black</td>\n",
              "      <td>Steel</td>\n",
              "      <td>Automatic</td>\n",
              "      <td>Gasoline</td>\n",
              "      <td>Phoenix</td>\n",
              "      <td>85284</td>\n",
              "      <td>18599.0</td>\n",
              "      <td>6.0</td>\n",
              "      <td>4.0</td>\n",
              "      <td>15.0</td>\n",
              "      <td>21.0</td>\n",
              "      <td>3</td>\n",
              "      <td>30495.0</td>\n",
              "      <td>54742.197571</td>\n",
              "      <td>79.512043</td>\n",
              "    </tr>\n",
              "    <tr>\n",
              "      <th>7255</th>\n",
              "      <td>FIAT</td>\n",
              "      <td>500</td>\n",
              "      <td>HATCH</td>\n",
              "      <td>Used</td>\n",
              "      <td>Gray</td>\n",
              "      <td>Black</td>\n",
              "      <td>Single-Speed</td>\n",
              "      <td>Electric</td>\n",
              "      <td>San Jose</td>\n",
              "      <td>95136</td>\n",
              "      <td>24159.0</td>\n",
              "      <td>NaN</td>\n",
              "      <td>2.0</td>\n",
              "      <td>NaN</td>\n",
              "      <td>NaN</td>\n",
              "      <td>4</td>\n",
              "      <td>13300.0</td>\n",
              "      <td>23622.072888</td>\n",
              "      <td>77.609571</td>\n",
              "    </tr>\n",
              "  </tbody>\n",
              "</table>\n",
              "</div>"
            ],
            "text/plain": [
              "        Brand     Model    Body Certification Exterior_Color Interior_Color  \\\n",
              "4981     FIAT       500   HATCH          Used           Gray          Black   \n",
              "10510   Lexus    ES 350   SEDAN          Used            NaN          Other   \n",
              "4685     FIAT       500   HATCH          Used         Silver          Black   \n",
              "10607  Nissan  Frontier  TRUCKS          Used          Black          Steel   \n",
              "7255     FIAT       500   HATCH          Used           Gray          Black   \n",
              "\n",
              "      Transmission_Type Fuel_Type         City Zip_Code  Mileage  \\\n",
              "4981       Single-Speed  Electric  Los Angeles    90640  21667.0   \n",
              "10510         Automatic  Gasoline      Phoenix    85226  31210.0   \n",
              "4685       Single-Speed  Electric  Los Angeles    90250  17749.0   \n",
              "10607         Automatic  Gasoline      Phoenix    85284  18599.0   \n",
              "7255       Single-Speed  Electric     San Jose    95136  24159.0   \n",
              "\n",
              "       Cylinder_Number  Wheel_Drive_Number  MPG_City  MPG_Highway  Car_Age  \\\n",
              "4981               NaN                 2.0       NaN          NaN        4   \n",
              "10510              6.0                 2.0      21.0         30.0        4   \n",
              "4685               NaN                 2.0       NaN          NaN        4   \n",
              "10607              6.0                 4.0      15.0         21.0        3   \n",
              "7255               NaN                 2.0       NaN          NaN        4   \n",
              "\n",
              "        y_test        y_pred  y_test_difference(%)  \n",
              "4981   13199.0  24631.634770             86.617431  \n",
              "10510  19685.0  36693.198628             86.401822  \n",
              "4685   13800.0  25389.442100             83.981464  \n",
              "10607  30495.0  54742.197571             79.512043  \n",
              "7255   13300.0  23622.072888             77.609571  "
            ]
          },
          "execution_count": 109,
          "metadata": {},
          "output_type": "execute_result"
        }
      ],
      "source": [
        "# check data for which model fitting is poor\n",
        "performance_test_dataset.sort_values(by=['y_test_difference(%)'], ascending=False).head()"
      ]
    },
    {
      "cell_type": "code",
      "execution_count": 67,
      "metadata": {},
      "outputs": [
        {
          "name": "stdout",
          "output_type": "stream",
          "text": [
            "Normalized RMSE of test dataset: 0.16\n"
          ]
        }
      ],
      "source": [
        "rmse_test = np.sqrt(metrics.mean_squared_error(y_test, y_pred))\n",
        "nrmse_test = rmse_test/y_test.mean()\n",
        "print('Normalized RMSE of test dataset: {:.2f}'.format(nrmse_test))"
      ]
    },
    {
      "cell_type": "code",
      "execution_count": 68,
      "metadata": {},
      "outputs": [
        {
          "name": "stdout",
          "output_type": "stream",
          "text": [
            "Best score of the model on training dataset: 0.81\n",
            "Normalized RMSE of trained dataset: 0.12\n",
            "Normalized RMSE of test dataset: 0.16\n",
            "Difference between nrmse_train and nrmse_test: 26.72 %\n"
          ]
        }
      ],
      "source": [
        "# difference between nrmse_train and nrmse_test\n",
        "nrmse_difference = (nrmse_test - nrmse_train)*100/nrmse_train\n",
        "print('Best score of the model on training dataset: {:.2f}'.format(model_best_score))\n",
        "print('Normalized RMSE of trained dataset: {:.2f}'.format(nrmse_train))\n",
        "print('Normalized RMSE of test dataset: {:.2f}'.format(nrmse_test))\n",
        "print('Difference between nrmse_train and nrmse_test: {:.2f} %'.format(nrmse_difference))"
      ]
    },
    {
      "cell_type": "markdown",
      "metadata": {},
      "source": [
        "### Pickle the standard scalar and catboost model"
      ]
    },
    {
      "cell_type": "code",
      "execution_count": 69,
      "metadata": {},
      "outputs": [],
      "source": [
        "# Pickle the model\n",
        "# open a file, where you ant to store the data\n",
        "standard_scaler_pkl = open('catboost_standard_scaler.pkl', 'wb')\n",
        "regression_model_pkl = open('catboost_regression_model.pkl', 'wb')\n",
        "# dump information to that file\n",
        "pickle.dump(standard_scaler, standard_scaler_pkl)\n",
        "pickle.dump(randomized_search_cv, regression_model_pkl)"
      ]
    },
    {
      "cell_type": "markdown",
      "metadata": {},
      "source": [
        "### Create requirements.txt file"
      ]
    },
    {
      "cell_type": "code",
      "execution_count": 70,
      "metadata": {},
      "outputs": [],
      "source": [
        "# $ cd my-project/\n",
        "# $ virtualenv venv\n",
        "# $ source venv/bin/activate\n",
        "# $ pip install <package>"
      ]
    },
    {
      "cell_type": "code",
      "execution_count": 71,
      "metadata": {},
      "outputs": [],
      "source": [
        "# to get the requirements.txt file \n",
        "# $ pip3 freeze > requirements.txt\n",
        "# $ python3 -m  pipreqs.pipreqs ."
      ]
    },
    {
      "cell_type": "code",
      "execution_count": null,
      "metadata": {},
      "outputs": [],
      "source": []
    }
  ],
  "metadata": {
    "colab": {
      "collapsed_sections": [],
      "name": "catboost.ipynb",
      "provenance": [],
      "toc_visible": true
    },
    "kernelspec": {
      "display_name": "Python 3",
      "name": "python3"
    },
    "language_info": {
      "codemirror_mode": {
        "name": "ipython",
        "version": 3
      },
      "file_extension": ".py",
      "mimetype": "text/x-python",
      "name": "python",
      "nbconvert_exporter": "python",
      "pygments_lexer": "ipython3",
      "version": "3.10.1"
    }
  },
  "nbformat": 4,
  "nbformat_minor": 0
}
