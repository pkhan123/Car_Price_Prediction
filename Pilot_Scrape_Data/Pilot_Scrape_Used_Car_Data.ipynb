{
 "cells": [
  {
   "cell_type": "markdown",
   "metadata": {},
   "source": [
    "# Pilot Scrape Code To Extract Used Cars Data"
   ]
  },
  {
   "cell_type": "code",
   "execution_count": 24,
   "metadata": {},
   "outputs": [],
   "source": [
    "# Scrape Used Car Data from autotrader.com for New York\n",
    "# Pilot code to check we can access the relevant data as expected"
   ]
  },
  {
   "cell_type": "markdown",
   "metadata": {},
   "source": [
    "## Step-1: Python Request "
   ]
  },
  {
   "cell_type": "code",
   "execution_count": 25,
   "metadata": {},
   "outputs": [],
   "source": [
    "import requests\n",
    "\n",
    "headers = {\n",
    "    'authority': 'www.autotrader.com',\n",
    "    'sec-ch-ua': '\" Not A;Brand\";v=\"99\", \"Chromium\";v=\"98\", \"Google Chrome\";v=\"98\"',\n",
    "    'tracestate': '1190893@nr=0-1-1543670-910326579-4fa665af5a839139----1645724326230',\n",
    "    'traceparent': '00-ad88395ffeeab16f2d65bd5dccec6290-4fa665af5a839139-01',\n",
    "    'sec-ch-ua-mobile': '?0',\n",
    "    'user-agent': 'Mozilla/5.0 (Macintosh; Intel Mac OS X 10_15_7) AppleWebKit/537.36 (KHTML, like Gecko) Chrome/98.0.4758.109 Safari/537.36',\n",
    "    'newrelic': 'eyJ2IjpbMCwxXSwiZCI6eyJ0eSI6IkJyb3dzZXIiLCJhYyI6IjE1NDM2NzAiLCJhcCI6IjkxMDMyNjU3OSIsImlkIjoiNGZhNjY1YWY1YTgzOTEzOSIsInRyIjoiYWQ4ODM5NWZmZWVhYjE2ZjJkNjViZDVkY2NlYzYyOTAiLCJ0aSI6MTY0NTcyNDMyNjIzMCwidGsiOiIxMTkwODkzIn19',\n",
    "    'content-type': 'application/json',\n",
    "    'sec-ch-ua-platform': '\"macOS\"',\n",
    "    'accept': '*/*',\n",
    "    'sec-fetch-site': 'same-origin',\n",
    "    'sec-fetch-mode': 'cors',\n",
    "    'sec-fetch-dest': 'empty',\n",
    "    'referer': 'https://www.autotrader.com/cars-for-sale/all-cars/new-york-ny-10001?dma=&searchRadius=25&isNewSearch=false&marketExtension=include&showAccelerateBanner=false&sortBy=relevance&numRecords=25&firstRecord=75',\n",
    "    'accept-language': 'en-GB,en-US;q=0.9,en;q=0.8',\n",
    "    'cookie': 'ATC_ID=6531d272-cabe-4b6d-9e75-624137eec5c8; akaalb_at_alb=1645726072~op=AT_col_lb:AT_col_use1|~rv=63~m=AT_col_use1:0|~os=659c3ec2d171bf62456d07d58a4d53bf~id=4281dde3519140eb2be21f9f2767ad8b; bm_sz=6BA0723236D02B6872632A534DE06B8E~YAAQRUo5FxZOFSV/AQAAL4nPLA7aqHCA0lXqv1l+/t80KDXBhlvsEjvCW7dtd23eb/0Eeyr6I0LXIGpG6z82MJ/VIBmfGgT9XhXqorP27P4mniJQ6FKhSoYiIJikW2zAvGobxL1LI+KSacP7IkmY1QiCyfvW1CzGmEsxoDMQmAiw1RF+mUG1A2Y3dNqdTO6TqI801XwleZfSFG0f1Mm0A1f9mBLus7TuXtJ/PwpbO54NBK2Jd4YHca6lLfDmPQQZMZJ13LFmSJkl8G8CxZfb8FNm6hp9QiSPyy2W9MxjQQewpAbdw/ob~4601905~4534833; ak_bmsc=A9B89523E45A85EA34BBB1537C84340C~000000000000000000000000000000~YAAQRUo5F0lOFSV/AQAAEY/PLA4CbwmjMhlRhRjpV1+j3R1YQM0NEl8VQm5iQi0DhLwj93NVDU8QCPOoii/6MRUVZZxRVEe0gg8DCExYQ9HypZhjlUlVU0UZsoXd6rd0ps8+xSDXDl6L1+OTpoYDswJ7zdc0xsO5EiYMp4q0CQA81EItCRGCB/ac4BfA6cPA9F9V03K/n0k3qJu4OAXiUSoqSsqLqQVwHTEwtDorua4eS415JEpHuQT/g153KKIQnWrDZ77BM5fvu8T9T3ugiFsNcylf/BP9YJrfGzlddMiifSpEiMoZ6KADz8rjwOFFxg5aecH9iAWJSV3FFZdvTaVOHwrqFpS5YH6sAHHwS1KuVVOGwqynNO2Ss26pN41+28ABtdwc1qAAIbnKwnT8k4rXUxCU9ViPMNQtFTPVM7GR4XQEQ/CUvkcbdNwliuOHSsVUVRMJBUE7bjp/X6SV9iGK6MdFF3Kff3Ah2h8Z7cKRM76c+auU25S03OLo; pxa_id=bCYd41aQB9z0y1A0rV11B0YF; __gads=ID=41295cb1d43e6c1a:T=1645724275:S=ALNI_MaUeHDiXVHDDMqND8ZXAep4jmIQsQ; _gcl_au=1.1.1863187294.1645724276; AMCVS_A9D33BC75245B2650A490D4D%40AdobeOrg=1; abc=bCYd41aQB9z0y1A0rV11B0YF; pxa_ipv4=103.59.73.204; pixall_cookie_sync=true; pxa_at=true; _gid=GA1.2.709950459.1645724277; _gat_UA-182514997-17=1; s_ecid=MCMID%7C00947717856574758911149873068546324427; _scid=99faea70-e638-4034-828a-0e162c08274e; _fbp=fb.1.1645724278251.253012424; aam_aa=aamaa%3D96119%7C96152%7C96128; aamoptsegs=aam%3D92872; aam_uuid=00782266995681073661130530902684687262; _cs_c=1; _dpm_ses.070d=*; ATC_USER_ZIP=10001; _sctr=1|1645641000000; _clck=xfiki4|1|ez9|0; _lr_geo_location=IN; _aeaid=5c18802c-3f8a-4921-96d6-2913b5111039; aeatstartmessage=true; _4c_mc_=27ba2664-9907-47be-8673-a58a8d5c2008; ATC_USER_RADIUS=25; pixall_abc=bCYd41aQB9z0y1A0rV11B0YF; akaalb_pixall_prod=1645726093~op=ddc_ana_pixall_prod:eng_ana_pixall_prod-pico-us-west-2|~rv=89~m=eng_ana_pixall_prod-pico-us-west-2:0|~os=6aafa3aac97a52a58cd06655a170720e~id=a8810273ec4241b611123833a7ad1e14; _pbjs_userid_consent_data=3524755945110770; abc_3rd_party=bCYd41aQB9z0y1A0rV11B0YF; _ga=GA1.2.1246903089.1645724276; s_pers=%20s_tbm4.04%3Dtrue%7C1646075132643%3B%20ev95gapv%3DTyped%252FBookmarked%7C1645726094727%3B%20ev97gapv%3Dundefined%7C1645726094742%3B%20ev98gapv%3Dundefined%7C1646072999755%3B%20s_tbm%3Dtrue%7C1645726094762%3B%20ev96gapv%3D%7C1646072999769%3B; _uetsid=81093f40959811ecbd2a79dd35d2eb73; _uetvid=8109ea60959811ec850313cc0c3916f6; s_sess=%20s_cc%3Dtrue%3B%20s_ppv%3Dfyc_srl%3B; AMCV_A9D33BC75245B2650A490D4D%40AdobeOrg=1075005958%7CMCIDTS%7C19048%7CMCMID%7C00947717856574758911149873068546324427%7CMCAAMLH-1646329095%7C12%7CMCAAMB-1646329095%7CRKhpRz8krg2tLO6pguXWp5olkAcUniQYPHaMWWgdJ3xzPWQmdj0y%7CMCCIDH%7C-472391603%7CMCOPTOUT-1645731495s%7CNONE%7CMCAID%7CNONE%7CvVersion%7C4.4.1; dxatc=%3D6545; aam_tnt_vin=vin_seg%3Datc; _pin_unauth=dWlkPVlUQmtaR1EyTWpZdFl6WXpZUzAwTkdGbUxUa3daakl0WW1Vd016STRORGhrTnpCaw; _lr_retry_request=true; _lr_env_src_ats=false; pbjs-unifiedid=%7B%22TDID%22%3A%2248ba2542-2fda-457d-ba4f-ee1e5032d0f5%22%2C%22TDID_LOOKUP%22%3A%22TRUE%22%2C%22TDID_CREATED_AT%22%3A%222022-01-24T17%3A38%3A15%22%7D; _dpm_id.070d=d1f3a629-97d0-4413-8068-555b3d2669fd.1645724280.1.1645724296.1645724280.00e19b83-7d53-4e41-93d9-740825e8b185; _td=6d6a113f-bb7f-41f4-98aa-998a22376c7f; _cs_id=1fdf98fe-c0ba-aa70-bcf3-e6b9be106a44.1645724279.1.1645724296.1645724279.1.1679888279970; _cs_s=2.0.0.1645726096046; DCNAME=www-aws.autotrader.com; AWSELB=63D17F8D0A6A31FD1A70DEEAE0035E96AA49FCE54DF7E58C2A1574D271CBD40164BAFD378E05C50B3490D3F7D77D63186541683A594F4DD59C26F1E666B9556B6C225100B5; AWSELBCORS=63D17F8D0A6A31FD1A70DEEAE0035E96AA49FCE54DF7E58C2A1574D271CBD40164BAFD378E05C50B3490D3F7D77D63186541683A594F4DD59C26F1E666B9556B6C225100B5; s_sq=%5B%5BB%5D%5D; _ga_GRZKKR4C6W=GS1.1.1645724276.1.1.1645724325.11; _clsk=10gho5o|1645724326081|3|0|l.clarity.ms/collect; bm_sv=1DF478C03C772E7FD150189AAA6116CF~gZ/ZmJWx1dWUssfuwtMtDgmSvxMazjrnXQZPKjD0mPuOT6vRD9C9S2u+jSRZpOF/OlUYIAqrO591we/gkimAsFMyUzf7D1STziaeQFycl5KQ2dnZdnhaXA+uu6rLCja1hYF9nFjvIdWpYrf2fP17RxTwwNibgdMrXlnklP5w1II=; _abck=05AAD10B3017B9E5DCFE49DFBE95ADCF~0~YAAQRUo5F5tRFSV/AQAA3ljQLAewOVJMVxxg6HErLjapYQ1lxajnFuLlIInO1Rt0mwkHY5pwI+0P3FGdrBCGs0+i5CjgOgk2TYm1VobQvPOFevpvfqqKvL4nHi2Sd5kIeIW16BNyfl7hupflL5e2IwRGU/Pvd5jHy9UTV7dMerEMrZSeHeTGRBdhI1CgGQNzpoaZWgHntgrL3ZexAQNpcWGhdW5zIrzlSVSdRu6jhnwQPTOELDx31f6Vq7a7cKvl/6204pw8cVYU1ch9KZnMN51HbaR1mRclzgpuMpJnpo1VTa411Xx24w4QflHhN1PfbyD76ya7l9CQRRuSwsO+tSFOPQpkMmSBkCoSqxfIwPsOdzrGGbo9t8XRn37EiQwkQ28x5DwdQb2NVPru7lH+Wr7CtDTGNrXqEYD3Uw==~-1~-1~-1',\n",
    "}\n",
    "\n",
    "params = (\n",
    "    ('allListingType', 'all-cars'),\n",
    "    ('city', 'New York'),\n",
    "    ('state', 'NY'),\n",
    "    ('zip', '10001'),\n",
    "    ('location', '[object Object]'),\n",
    "    ('searchRadius', '25'),\n",
    "    ('isNewSearch', 'false'),\n",
    "    ('marketExtension', 'include'),\n",
    "    ('showAccelerateBanner', 'false'),\n",
    "    ('sortBy', 'relevance'),\n",
    "    ('numRecords', '25'),\n",
    "    ('firstRecord', '75'),\n",
    "    ('dma', '[object Object]'),\n",
    "    ('channel', 'ATC'),\n",
    "    ('relevanceConfig', 'relevance-v2'),\n",
    "    ('searchByDma', 'false'),\n",
    ")\n",
    "\n",
    "response = requests.get('https://www.autotrader.com/rest/searchresults/base', headers=headers, params=params)"
   ]
  },
  {
   "cell_type": "code",
   "execution_count": 26,
   "metadata": {},
   "outputs": [
    {
     "data": {
      "text/plain": [
       "<Response [200]>"
      ]
     },
     "execution_count": 26,
     "metadata": {},
     "output_type": "execute_result"
    }
   ],
   "source": [
    "# check response status code\n",
    "# if response status code should be 200\n",
    "response"
   ]
  },
  {
   "cell_type": "markdown",
   "metadata": {},
   "source": [
    "## Step-2: Create Response Json Object"
   ]
  },
  {
   "cell_type": "code",
   "execution_count": 27,
   "metadata": {},
   "outputs": [],
   "source": [
    "# create response json object\n",
    "response_json_object = response.json()"
   ]
  },
  {
   "cell_type": "code",
   "execution_count": 28,
   "metadata": {},
   "outputs": [
    {
     "data": {
      "text/plain": [
       "dict"
      ]
     },
     "execution_count": 28,
     "metadata": {},
     "output_type": "execute_result"
    }
   ],
   "source": [
    "# response json object type will be dictionary\n",
    "type(response_json_object)"
   ]
  },
  {
   "cell_type": "code",
   "execution_count": 29,
   "metadata": {},
   "outputs": [
    {
     "data": {
      "text/plain": [
       "dict_keys(['filters', 'listings', 'owners', 'pageData', 'requestParams', 'totalResultCount'])"
      ]
     },
     "execution_count": 29,
     "metadata": {},
     "output_type": "execute_result"
    }
   ],
   "source": [
    "# response json object keys\n",
    "response_json_object.keys()"
   ]
  },
  {
   "cell_type": "code",
   "execution_count": 30,
   "metadata": {},
   "outputs": [
    {
     "data": {
      "text/plain": [
       "25"
      ]
     },
     "execution_count": 30,
     "metadata": {},
     "output_type": "execute_result"
    }
   ],
   "source": [
    "# listing key contains the car list\n",
    "car_list_per_page = len(response_json_object['listings'])\n",
    "car_list_per_page"
   ]
  },
  {
   "cell_type": "markdown",
   "metadata": {},
   "source": [
    "## Step-3: Extract Relevent Data "
   ]
  },
  {
   "cell_type": "code",
   "execution_count": 31,
   "metadata": {},
   "outputs": [],
   "source": [
    "# result items\n",
    "result_items = response_json_object['listings']"
   ]
  },
  {
   "cell_type": "code",
   "execution_count": 32,
   "metadata": {},
   "outputs": [
    {
     "data": {
      "text/plain": [
       "{'accelerate': False,\n",
       " 'bodyStyleCodes': ['SUV'],\n",
       " 'carSchemaOwnerImage': 'https://images.autotrader.com/images/direct/dealer_photo/2010/02/25/100021156/1267122653660/KG_Paragon_Acura_A.jpg',\n",
       " 'certifiedProduct': {'id': 'ACURA_CERT'},\n",
       " 'dealerConfig': {},\n",
       " 'description': {'hasMore': True,\n",
       "  'label': '2019 Acura RDX **CARFAX CERTIFIED**, PASSED INSPECTION, *BACK UP CAMERA*, HEATED SEATS, **BLUETOOTH**, **ALL WHEEL DRIVE**, PANORAMIC ROOF, ...'},\n",
       " 'features': ['**ALL WHEEL DRIVE**',\n",
       "  '**BLUETOOTH**',\n",
       "  '**CARFAX CERTIFIED**',\n",
       "  '*BACK UP CAMERA*',\n",
       "  '4-Wheel Disc Brakes',\n",
       "  '4.17 Axle Ratio',\n",
       "  '9 Speakers',\n",
       "  'ABS brakes',\n",
       "  'AM/FM radio: SiriusXM',\n",
       "  'Air Conditioning',\n",
       "  'Alloy wheels',\n",
       "  'Apple CarPlay',\n",
       "  'Auto High-beam Headlights',\n",
       "  'Auto-dimming Rear-View mirror',\n",
       "  'Automatic temperature control',\n",
       "  'Brake assist',\n",
       "  'Bumpers: body-color',\n",
       "  'Compass',\n",
       "  'Delay-off headlights',\n",
       "  'Driver door bin',\n",
       "  'Driver vanity mirror',\n",
       "  'Dual front impact airbags',\n",
       "  'Dual front side impact airbags',\n",
       "  'Electronic Stability Control',\n",
       "  'Emergency communication system: AcuraLink',\n",
       "  'Exterior Parking Camera Rear',\n",
       "  'Four wheel independent suspension',\n",
       "  'Front Bucket Seats',\n",
       "  'Front Center Armrest',\n",
       "  'Front anti-roll bar',\n",
       "  'Front dual zone A/C',\n",
       "  'Front reading lights',\n",
       "  'Fully automatic headlights',\n",
       "  'Garage door transmitter: HomeLink',\n",
       "  'HEATED SEATS',\n",
       "  'Heated Front Sport Seats',\n",
       "  'Heated door mirrors',\n",
       "  'Heated front seats',\n",
       "  'Illuminated entry',\n",
       "  'Knee airbag',\n",
       "  'Lane departure: Lane Keeping Assist System (LKAS) active',\n",
       "  'Leatherette-Trimmed Interior',\n",
       "  'Low tire pressure warning',\n",
       "  'Memory seat',\n",
       "  'Occupant sensing airbag',\n",
       "  'Outside temperature display',\n",
       "  'Overhead airbag',\n",
       "  'Overhead console',\n",
       "  'PANORAMIC ROOF',\n",
       "  'PASSED INSPECTION',\n",
       "  'Panic alarm',\n",
       "  'Passenger door bin',\n",
       "  'Passenger vanity mirror',\n",
       "  'Power Liftgate',\n",
       "  'Power door mirrors',\n",
       "  'Power driver seat',\n",
       "  'Power moonroof',\n",
       "  'Power passenger seat',\n",
       "  'Power steering',\n",
       "  'Power windows',\n",
       "  'Radio data system',\n",
       "  'Radio: Acura Premium Audio System',\n",
       "  'Rear anti-roll bar',\n",
       "  'Rear reading lights',\n",
       "  'Rear seat center armrest',\n",
       "  'Rear window defroster',\n",
       "  'Rear window wiper',\n",
       "  'Remote keyless entry',\n",
       "  'Security system',\n",
       "  'Speed control',\n",
       "  'Speed-Sensitive Wipers',\n",
       "  'Speed-sensing steering',\n",
       "  'Split folding rear seat',\n",
       "  'Spoiler',\n",
       "  'Steering wheel mounted audio controls',\n",
       "  'Tachometer',\n",
       "  'Telescoping steering wheel',\n",
       "  'Tilt steering wheel',\n",
       "  'Traction control',\n",
       "  'Trip computer',\n",
       "  'Turn signal indicator mirrors',\n",
       "  'Variably intermittent wipers',\n",
       "  'Wheels: 19\" x 8\" Glitter Silver Multi-Spoke'],\n",
       " 'fuelType': 'Gasoline',\n",
       " 'hasSpecialOffer': False,\n",
       " 'id': 623413688,\n",
       " 'images': {'hasVideoIcon': False,\n",
       "  'primary': 0,\n",
       "  'sources': [{'alt': 'Certified 2019 Acura RDX AWD - 623413688',\n",
       "    'src': '//images.autotrader.com/hn/c/ae83ad983880438db4d7d8f61998870d.jpg',\n",
       "    'title': 'Certified 2019 Acura RDX AWD'}]},\n",
       " 'isHot': False,\n",
       " 'isNewlyListed': True,\n",
       " 'listingTypes': ['USED', 'CERTIFIED', 'kbb_cert'],\n",
       " 'make': 'Acura',\n",
       " 'makeCode': 'ACURA',\n",
       " 'model': 'RDX',\n",
       " 'modelCode': 'RDX',\n",
       " 'owner': 100021156,\n",
       " 'ownerName': 'Paragon Acura',\n",
       " 'paymentServices': {'activeDealerTrack': True,\n",
       "  'coxAutoDrEnabled': False,\n",
       "  'dealerSettings': {'taxesFeesEnabled': True, 'uiEnabled': False},\n",
       "  'incentivesUrl': 'listingType=Used&vin=5J8TC2H32KL033874&dealerId=1814Test1&vin=5J8TC2H32KL033874&partnerId=AOT',\n",
       "  'paymentCalculationUrl': 'salePrice=40000&dealerZip=11377&mileage=2943&vin=5J8TC2H32KL033874&certifiedUsed=true&listingType=Used&fueltype=Gasoline&styleId=400898&trim=AWD&bodyType=Sport Utility&transmission=Automatic&msrp=0&dealerId=1814Test1&partnerId=AOT&quotePreference=All&enableLease=false&disableIncentives=true&hasSpecialOffers=false',\n",
       "  'paymentServiceActive': True,\n",
       "  'preferredLenderSpecified': False,\n",
       "  'digitalRetailingType': 'default'},\n",
       " 'phone': {'linkText': \"Get this seller's phone number\",\n",
       "  'privateNumber': False,\n",
       "  'value': '3473541372',\n",
       "  'isVisible': True},\n",
       " 'priceValidUntil': '2023-02-04',\n",
       " 'pricingDetail': {'dealIndicator': 'Great',\n",
       "  'incentive': 40000,\n",
       "  'isMismatch': True,\n",
       "  'noPriceLabel': 'Contact Dealer For Price',\n",
       "  'salePrice': 40000},\n",
       " 'priority': 'Premium',\n",
       " 'productTiles': [{'cmp': 'ec_pa_lgo',\n",
       "   'cprd': 'View_CERT',\n",
       "   'epn': 'carfaxVHR',\n",
       "   'image': {'src': '/resources/img/na/carfax/regular-own.svg'},\n",
       "   'link': {'href': 'https://www.carfax.com/VehicleHistory/ar20/ATlEjLtmWAyhMgLCaZLUFqaK0p6vTLjA6oU6hSSj86iRM3gerOKre_TGR0fjZEpCo4hQmpoJIIFOQbgocqZ5_Dw2mBkbyhEwDpA',\n",
       "    'label': 'View the Free CARFAX Report',\n",
       "    'offsite': True,\n",
       "    'partner': True},\n",
       "   'tileType': 'CARFAX_APPENDED'}],\n",
       " 'quickViewFeatures': ['Adaptive Cruise Control',\n",
       "  'Brake Assist',\n",
       "  'Keyless Start',\n",
       "  'Lane Departure Warning',\n",
       "  'Luxury',\n",
       "  'Moonroof',\n",
       "  'WiFi Hotspot'],\n",
       " 'specifications': {'interiorColor': {'label': 'Interior Color',\n",
       "   'value': 'Graystone'},\n",
       "  'transmission': {'label': 'Transmission', 'value': 'Automatic'},\n",
       "  'color': {'label': 'Color', 'value': 'Blue'},\n",
       "  'mpg': {'label': 'MPG', 'value': '21 City / 26 Highway'},\n",
       "  'engine': {'label': 'Engine', 'value': '4-Cylinder Turbo'},\n",
       "  'driveType': {'label': 'Drive Type', 'value': 'All wheel drive'},\n",
       "  'mileage': {'label': 'miles', 'value': '2,943'}},\n",
       " 'stockNumber': 'U28580',\n",
       " 'style': ['Sport Utility'],\n",
       " 'title': 'Certified 2019 Acura RDX AWD',\n",
       " 'trim': 'AWD',\n",
       " 'type': 'Certified',\n",
       " 'vin': '5J8TC2H32KL033874',\n",
       " 'website': {'href': '/cars-for-sale/vehicledetails.xhtml?listingId=623413688&zip=10001&referrer=%2Fcars-for-sale%2Fsearchresults.xhtml%3Fzip%3D10001%26city%3DNew%2BYork%26sortBy%3Drelevance%26location%3D%255Bobject%2BObject%255D%26incremental%3Dall%26state%3DNY%26searchByDma%3Dfalse%26firstRecord%3D25%26marketExtension%3Dinclude%26relevanceConfig%3Drelevance-v2%26searchRadius%3D25%26isNewSearch%3Dfalse&numRecords=25&searchByDma=false&firstRecord=25&searchRadius=25&makeCode1=ACURA&modelCode1=RDX'},\n",
       " 'year': 2019,\n",
       " 'zip': '11377'}"
      ]
     },
     "execution_count": 32,
     "metadata": {},
     "output_type": "execute_result"
    }
   ],
   "source": [
    "# first item of first page\n",
    "first_item = result_items[0]\n",
    "print(first_item)"
   ]
  },
  {
   "cell_type": "code",
   "execution_count": 33,
   "metadata": {},
   "outputs": [
    {
     "data": {
      "text/plain": [
       "'Acura'"
      ]
     },
     "execution_count": 33,
     "metadata": {},
     "output_type": "execute_result"
    }
   ],
   "source": [
    "# brand \n",
    "first_item['make']"
   ]
  },
  {
   "cell_type": "code",
   "execution_count": 34,
   "metadata": {},
   "outputs": [
    {
     "data": {
      "text/plain": [
       "'RDX'"
      ]
     },
     "execution_count": 34,
     "metadata": {},
     "output_type": "execute_result"
    }
   ],
   "source": [
    "# model \n",
    "first_item['model']"
   ]
  },
  {
   "cell_type": "code",
   "execution_count": 35,
   "metadata": {},
   "outputs": [
    {
     "data": {
      "text/plain": [
       "'SUV'"
      ]
     },
     "execution_count": 35,
     "metadata": {},
     "output_type": "execute_result"
    }
   ],
   "source": [
    "# body\n",
    "first_item['bodyStyleCodes'][0]"
   ]
  },
  {
   "cell_type": "code",
   "execution_count": 36,
   "metadata": {},
   "outputs": [
    {
     "data": {
      "text/plain": [
       "'Certified'"
      ]
     },
     "execution_count": 36,
     "metadata": {},
     "output_type": "execute_result"
    }
   ],
   "source": [
    "# certification\n",
    "first_item['type']"
   ]
  },
  {
   "cell_type": "code",
   "execution_count": 37,
   "metadata": {},
   "outputs": [
    {
     "data": {
      "text/plain": [
       "'Blue'"
      ]
     },
     "execution_count": 37,
     "metadata": {},
     "output_type": "execute_result"
    }
   ],
   "source": [
    "# exterior color\n",
    "first_item['specifications']['color']['value']"
   ]
  },
  {
   "cell_type": "code",
   "execution_count": 38,
   "metadata": {},
   "outputs": [
    {
     "data": {
      "text/plain": [
       "'Graystone'"
      ]
     },
     "execution_count": 38,
     "metadata": {},
     "output_type": "execute_result"
    }
   ],
   "source": [
    "# interior color\n",
    "first_item['specifications']['interiorColor']['value']"
   ]
  },
  {
   "cell_type": "code",
   "execution_count": 39,
   "metadata": {},
   "outputs": [
    {
     "data": {
      "text/plain": [
       "'Automatic'"
      ]
     },
     "execution_count": 39,
     "metadata": {},
     "output_type": "execute_result"
    }
   ],
   "source": [
    "# transmission type\n",
    "first_item['specifications']['transmission']['value']"
   ]
  },
  {
   "cell_type": "code",
   "execution_count": 40,
   "metadata": {},
   "outputs": [
    {
     "data": {
      "text/plain": [
       "'Gasoline'"
      ]
     },
     "execution_count": 40,
     "metadata": {},
     "output_type": "execute_result"
    }
   ],
   "source": [
    "# fuel type\n",
    "first_item['fuelType']"
   ]
  },
  {
   "cell_type": "code",
   "execution_count": 41,
   "metadata": {},
   "outputs": [
    {
     "data": {
      "text/plain": [
       "'4-Cylinder Turbo'"
      ]
     },
     "execution_count": 41,
     "metadata": {},
     "output_type": "execute_result"
    }
   ],
   "source": [
    "# engine type\n",
    "first_item['specifications']['engine']['value']"
   ]
  },
  {
   "cell_type": "code",
   "execution_count": 42,
   "metadata": {},
   "outputs": [
    {
     "data": {
      "text/plain": [
       "'All wheel drive'"
      ]
     },
     "execution_count": 42,
     "metadata": {},
     "output_type": "execute_result"
    }
   ],
   "source": [
    "# wheel drive type\n",
    "first_item['specifications']['driveType']['value']"
   ]
  },
  {
   "cell_type": "code",
   "execution_count": 43,
   "metadata": {},
   "outputs": [
    {
     "data": {
      "text/plain": [
       "'21 City / 26 Highway'"
      ]
     },
     "execution_count": 43,
     "metadata": {},
     "output_type": "execute_result"
    }
   ],
   "source": [
    "# miles per gallon\n",
    "first_item['specifications']['mpg']['value']"
   ]
  },
  {
   "cell_type": "code",
   "execution_count": 44,
   "metadata": {},
   "outputs": [
    {
     "data": {
      "text/plain": [
       "2019"
      ]
     },
     "execution_count": 44,
     "metadata": {},
     "output_type": "execute_result"
    }
   ],
   "source": [
    "# year\n",
    "first_item['year']"
   ]
  },
  {
   "cell_type": "code",
   "execution_count": 45,
   "metadata": {},
   "outputs": [
    {
     "data": {
      "text/plain": [
       "'11377'"
      ]
     },
     "execution_count": 45,
     "metadata": {},
     "output_type": "execute_result"
    }
   ],
   "source": [
    "# zip code\n",
    "first_item['zip']"
   ]
  },
  {
   "cell_type": "code",
   "execution_count": 46,
   "metadata": {},
   "outputs": [
    {
     "data": {
      "text/plain": [
       "'2,943'"
      ]
     },
     "execution_count": 46,
     "metadata": {},
     "output_type": "execute_result"
    }
   ],
   "source": [
    "# mileage\n",
    "first_item['specifications']['mileage']['value']"
   ]
  },
  {
   "cell_type": "code",
   "execution_count": 47,
   "metadata": {},
   "outputs": [
    {
     "data": {
      "text/plain": [
       "40000"
      ]
     },
     "execution_count": 47,
     "metadata": {},
     "output_type": "execute_result"
    }
   ],
   "source": [
    "# price\n",
    "first_item['pricingDetail']['salePrice']"
   ]
  },
  {
   "cell_type": "code",
   "execution_count": null,
   "metadata": {},
   "outputs": [],
   "source": [
    "print('all is well ... life is beautiful!')"
   ]
  }
 ],
 "metadata": {
  "kernelspec": {
   "display_name": "Python 3",
   "language": "python",
   "name": "python3"
  },
  "language_info": {
   "codemirror_mode": {
    "name": "ipython",
    "version": 3
   },
   "file_extension": ".py",
   "mimetype": "text/x-python",
   "name": "python",
   "nbconvert_exporter": "python",
   "pygments_lexer": "ipython3",
   "version": "3.10.1"
  }
 },
 "nbformat": 4,
 "nbformat_minor": 4
}
